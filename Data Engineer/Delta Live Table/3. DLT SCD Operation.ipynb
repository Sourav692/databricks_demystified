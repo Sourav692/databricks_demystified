{
 "cells": [
  {
   "cell_type": "code",
   "execution_count": 0,
   "metadata": {
    "application/vnd.databricks.v1+cell": {
     "cellMetadata": {
      "byteLimit": 2048000,
      "rowLimit": 10000
     },
     "inputWidgets": {},
     "nuid": "1431c125-aa8e-49be-942a-aa3008748e76",
     "showTitle": true,
     "tableResultSettingsMap": {},
     "title": "Create Demo Tables for the Demo"
    }
   },
   "outputs": [],
   "source": [
    "# ===================================================================\n",
    "# CREATE DEMO SOURCE TABLES FOR SCD OPERATIONS\n",
    "# Run this in a standard notebook before creating the DLT pipeline\n",
    "# ===================================================================\n",
    "\n",
    "from pyspark.sql import Row\n",
    "from pyspark.sql.functions import *\n",
    "from datetime import datetime\n",
    "\n",
    "print(\"Creating demo source tables for SCD operations...\")\n",
    "\n",
    "# ===================================================================\n",
    "# Customer Master Data (Main Source)\n",
    "# ===================================================================\n",
    "\n",
    "initial_customers = [\n",
    "    Row(customer_id=1, name=\"Alice Johnson\", email=\"alice@email.com\", city=\"New York\", \n",
    "        tier=\"Gold\", status=\"Active\", last_updated=\"2024-01-01 10:00:00\"),\n",
    "    Row(customer_id=2, name=\"Bob Smith\", email=\"bob@email.com\", city=\"Chicago\", \n",
    "        tier=\"Silver\", status=\"Active\", last_updated=\"2024-01-01 10:00:00\"),\n",
    "    Row(customer_id=3, name=\"Carol Davis\", email=\"carol@email.com\", city=\"Miami\", \n",
    "        tier=\"Bronze\", status=\"Active\", last_updated=\"2024-01-01 10:00:00\"),\n",
    "    Row(customer_id=4, name=\"David Wilson\", email=\"david@email.com\", city=\"Seattle\", \n",
    "        tier=\"Gold\", status=\"Active\", last_updated=\"2024-01-01 10:00:00\"),\n",
    "]\n",
    "\n",
    "customers_df = spark.createDataFrame(initial_customers)\n",
    "customers_df.write.format(\"delta\").mode(\"overwrite\").saveAsTable(\"data_university.dlt.scd_customers_source\")\n",
    "\n",
    "# ===================================================================\n",
    "# Change Data Capture (CDC) Events Table\n",
    "# ===================================================================\n",
    "\n",
    "# This table simulates incoming change events for realistic SCD processing\n",
    "initial_cdc_events = [\n",
    "    Row(customer_id=1, name=\"Alice Johnson\", email=\"alice@email.com\", city=\"New York\", \n",
    "        tier=\"Gold\", operation=\"INSERT\", event_timestamp=\"2024-01-01 10:00:00\", change_sequence=1),\n",
    "    Row(customer_id=2, name=\"Bob Smith\", email=\"bob@email.com\", city=\"Chicago\", \n",
    "        tier=\"Silver\", operation=\"INSERT\", event_timestamp=\"2024-01-01 10:00:00\", change_sequence=2),\n",
    "    Row(customer_id=3, name=\"Carol Davis\", email=\"carol@email.com\", city=\"Miami\", \n",
    "        tier=\"Bronze\", operation=\"INSERT\", event_timestamp=\"2024-01-01 10:00:00\", change_sequence=3),\n",
    "    Row(customer_id=4, name=\"David Wilson\", email=\"david@email.com\", city=\"Seattle\", \n",
    "        tier=\"Gold\", operation=\"INSERT\", event_timestamp=\"2024-01-01 10:00:00\", change_sequence=4),\n",
    "]\n",
    "\n",
    "cdc_df = spark.createDataFrame(initial_cdc_events)\n",
    "cdc_df.write.format(\"delta\").mode(\"overwrite\").saveAsTable(\"data_university.dlt.scd_cdc_events\")\n",
    "\n",
    "print(\"Demo source tables created successfully!\")\n",
    "print(\"\\nCustomers Source:\")\n",
    "spark.sql(\"SELECT * FROM data_university.dlt.scd_customers_source\").show()\n",
    "print(\"\\nCDC Events:\")\n",
    "spark.sql(\"SELECT * FROM data_university.dlt.scd_cdc_events\").show()\n"
   ]
  },
  {
   "cell_type": "code",
   "execution_count": 0,
   "metadata": {
    "application/vnd.databricks.v1+cell": {
     "cellMetadata": {},
     "inputWidgets": {},
     "nuid": "03b6c6f9-d712-4a49-a3ac-f27ad1e14e5e",
     "showTitle": false,
     "tableResultSettingsMap": {},
     "title": ""
    }
   },
   "outputs": [],
   "source": []
  }
 ],
 "metadata": {
  "application/vnd.databricks.v1+notebook": {
   "computePreferences": null,
   "dashboards": [],
   "environmentMetadata": {
    "base_environment": "",
    "environment_version": "2"
   },
   "inputWidgetPreferences": null,
   "language": "python",
   "notebookMetadata": {
    "pythonIndentUnit": 4
   },
   "notebookName": "3. DLT SCD Operation",
   "widgets": {}
  },
  "language_info": {
   "name": "python"
  }
 },
 "nbformat": 4,
 "nbformat_minor": 0
}
