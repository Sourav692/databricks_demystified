{
 "cells": [
  {
   "cell_type": "markdown",
   "metadata": {
    "application/vnd.databricks.v1+cell": {
     "cellMetadata": {},
     "inputWidgets": {},
     "nuid": "faa5c84c-f243-4c37-bd6f-7b522cf9bda1",
     "showTitle": false,
     "tableResultSettingsMap": {},
     "title": ""
    }
   },
   "source": [
    "## Simple ETL with DLT\n",
    "\n",
    "DLT makes Data Engineering accessible for all. Just declare your transformations in SQL or Python, and DLT will handle the Data Engineering complexity for you.\n",
    "\n",
    "<img style=\"float:right\" src=\"https://github.com/QuentinAmbard/databricks-demo/raw/main/product_demos/dlt-golden-demo-loan-1.png\" width=\"700\"/>\n",
    "\n",
    "**Accelerate ETL development** <br/>\n",
    "Enable analysts and data engineers to innovate rapidly with simple pipeline development and maintenance \n",
    "\n",
    "**Remove operational complexity** <br/>\n",
    "By automating complex administrative tasks and gaining broader visibility into pipeline operations\n",
    "\n",
    "**Trust your data** <br/>\n",
    "With built-in quality controls and quality monitoring to ensure accurate and useful BI, Data Science, and ML \n",
    "\n",
    "**Simplify batch and streaming** <br/>\n",
    "With self-optimization and auto-scaling data pipelines for batch or streaming processing \n",
    "\n",
    "## Simple ingestion with Lakeflow Connect\n",
    "\n",
    "Lakeflow Connect offers built-in data ingestion connectors for popular SaaS applications, databases and file sources, such as Salesforce, Workday, and SQL Server to build incremental data pipelines at scale, fully integrated with Databricks.\n",
    "\n",
    "To give it a try, check our [Lakeflow Connect Product Tour](https://www.databricks.com/resources/demos/tours/platform/discover-databricks-lakeflow-connect-demo)\n",
    "\n",
    "## Our DLT pipeline\n",
    "\n",
    "We'll be using as input a raw dataset containing information on our customers Loan and historical transactions. \n",
    "\n",
    "Our goal is to ingest this data in near real time and build table for our Analyst team while ensuring data quality.\n",
    "\n",
    "**Your DLT Pipeline is ready!** Your pipeline was started using this notebook and is <a dbdemos-pipeline-id=\"dlt-loans\" href=\"/#joblist/pipelines/18fe174b-523d-456f-9f6d-eba868434c66\">available here</a>.\n",
    "\n",
    "<!-- Collect usage data (view). Remove it to disable collection. View README for more details.  -->\n",
    "<img width=\"1px\" src=\"https://ppxrzfxige.execute-api.us-west-2.amazonaws.com/v1/analytics?category=data-engineering&org_id=3782931733495456&notebook=%2F01-DLT-Loan-pipeline-SQL&demo_name=dlt-loans&event=VIEW&path=%2F_dbdemos%2Fdata-engineering%2Fdlt-loans%2F01-DLT-Loan-pipeline-SQL&version=1&user_hash=f54348b201997908b91ace6288a9864114e7faea0de6a910579a7ab80989b7e0\">"
   ]
  },
  {
   "cell_type": "markdown",
   "metadata": {
    "application/vnd.databricks.v1+cell": {
     "cellMetadata": {},
     "inputWidgets": {},
     "nuid": "bb1e629d-cabb-4963-9a9c-b9354a71f060",
     "showTitle": false,
     "tableResultSettingsMap": {},
     "title": ""
    }
   },
   "source": [
    "\n",
    "Our datasets are coming from 3 different systems and saved under a cloud storage folder (S3/ADLS/GCS): \n",
    "\n",
    "* `loans/raw_transactions` (loans uploader here in every few minutes)\n",
    "* `loans/ref_accounting_treatment` (reference table, mostly static)\n",
    "* `loans/historical_loans` (loan from legacy system, new data added every week)\n",
    "\n",
    "Let's ingest this data incrementally, and then compute a couple of aggregates that we'll need for our final Dashboard to report our KPI."
   ]
  },
  {
   "cell_type": "code",
   "execution_count": 0,
   "metadata": {
    "application/vnd.databricks.v1+cell": {
     "cellMetadata": {},
     "inputWidgets": {},
     "nuid": "4782daef-23ad-4da6-aa6d-611d11933169",
     "showTitle": true,
     "tableResultSettingsMap": {},
     "title": "Let's review the incoming data"
    }
   },
   "outputs": [],
   "source": [
    "-- %fs ls /Volumes/dbdemos/dbdemos_dlt_loan/raw_data/raw_transactions"
   ]
  },
  {
   "cell_type": "markdown",
   "metadata": {
    "application/vnd.databricks.v1+cell": {
     "cellMetadata": {},
     "inputWidgets": {},
     "nuid": "981727ed-a2a3-4a15-a93b-2cfce56db82e",
     "showTitle": false,
     "tableResultSettingsMap": {},
     "title": ""
    }
   },
   "source": [
    "\n",
    "## Bronze layer: incrementally ingest data leveraging Databricks Autoloader\n",
    "\n",
    "<img style=\"float: right; padding-left: 10px\" src=\"https://github.com/QuentinAmbard/databricks-demo/raw/main/product_demos/dlt-golden-demo-loan-2.png\" width=\"600\"/>\n",
    "\n",
    "Our raw data is being sent to a blob storage. \n",
    "\n",
    "Autoloader simplify this ingestion, including schema inference, schema evolution while being able to scale to millions of incoming files. \n",
    "\n",
    "Autoloader is available in SQL using the `read_files` function and can be used with a variety of format (json, csv, avro...):\n",
    "\n",
    "For more detail on Autoloader, you can see `dbdemos.install('auto-loader')`\n",
    "\n",
    "#### STREAMING LIVE TABLE \n",
    "Defining tables as `STREAMING` will guarantee that you only consume new incoming data. Without `STREAMING`, you will scan and ingest all the data available at once. See the [documentation](https://docs.databricks.com/data-engineering/delta-live-tables/delta-live-tables-incremental-data.html) for more details\n"
   ]
  },
  {
   "cell_type": "code",
   "execution_count": 0,
   "metadata": {
    "application/vnd.databricks.v1+cell": {
     "cellMetadata": {},
     "inputWidgets": {},
     "nuid": "e8e680be-246b-4234-a95a-9925c055c84c",
     "showTitle": true,
     "tableResultSettingsMap": {},
     "title": "Capture new incoming transactions"
    }
   },
   "outputs": [],
   "source": [
    "CREATE STREAMING TABLE raw_txs\n",
    "  COMMENT \"New raw loan data incrementally ingested from cloud object storage landing zone\"\n",
    "AS SELECT * FROM STREAM read_files('/Volumes/dbdemos/dbdemos_dlt_loan/raw_data/raw_transactions', format => 'json', inferColumnTypes => true)"
   ]
  },
  {
   "cell_type": "code",
   "execution_count": 0,
   "metadata": {
    "application/vnd.databricks.v1+cell": {
     "cellMetadata": {},
     "inputWidgets": {},
     "nuid": "8e790c55-9e1e-4e83-a7ea-ac11e0d141a9",
     "showTitle": true,
     "tableResultSettingsMap": {},
     "title": "Reference table - metadata (small & almost static)"
    }
   },
   "outputs": [],
   "source": [
    "CREATE STREAMING TABLE ref_accounting_treatment\n",
    "  COMMENT \"Lookup mapping for accounting codes\"\n",
    "AS SELECT * FROM STREAM delta.`/Volumes/dbdemos/dbdemos_dlt_loan/raw_data/ref_accounting_treatment`"
   ]
  },
  {
   "cell_type": "code",
   "execution_count": 0,
   "metadata": {
    "application/vnd.databricks.v1+cell": {
     "cellMetadata": {},
     "inputWidgets": {},
     "nuid": "808c4f59-773f-49d5-99b3-1642f1026217",
     "showTitle": true,
     "tableResultSettingsMap": {},
     "title": "Historical transaction from legacy system"
    }
   },
   "outputs": [],
   "source": [
    "-- as this is only refreshed at a weekly basis, we can lower the interval\n",
    "CREATE STREAMING TABLE raw_historical_loans\n",
    "  TBLPROPERTIES (\"pipelines.trigger.interval\"=\"6 hour\")\n",
    "  COMMENT \"Raw historical transactions\"\n",
    "AS SELECT * FROM STREAM read_files('/Volumes/dbdemos/dbdemos_dlt_loan/raw_data/historical_loans', format => 'csv', inferColumnTypes => true)"
   ]
  },
  {
   "cell_type": "markdown",
   "metadata": {
    "application/vnd.databricks.v1+cell": {
     "cellMetadata": {},
     "inputWidgets": {},
     "nuid": "ccd11302-3055-47e9-8f80-8862041723a2",
     "showTitle": false,
     "tableResultSettingsMap": {},
     "title": ""
    }
   },
   "source": [
    "\n",
    "## Silver layer: joining tables while ensuring data quality\n",
    "\n",
    "<img style=\"float: right; padding-left: 10px\" src=\"https://github.com/QuentinAmbard/databricks-demo/raw/main/product_demos/dlt-golden-demo-loan-3.png\" width=\"600\"/>\n",
    "\n",
    "Once the bronze layer is defined, we'll create the sliver layers by Joining data. Note that bronze tables are referenced using the `LIVE` spacename. \n",
    "\n",
    "To consume only increment from the Bronze layer like `BZ_raw_txs`, we'll be using the `stream` keyworkd: `stream(LIVE.BZ_raw_txs)`\n",
    "\n",
    "Note that we don't have to worry about compactions, DLT handles that for us.\n",
    "\n",
    "#### Expectations\n",
    "By defining expectations (`CONSTRAINT <name> EXPECT <condition>`), you can enforce and track your data quality. See the [documentation](https://docs.databricks.com/data-engineering/delta-live-tables/delta-live-tables-expectations.html) for more details"
   ]
  },
  {
   "cell_type": "code",
   "execution_count": 0,
   "metadata": {
    "application/vnd.databricks.v1+cell": {
     "cellMetadata": {},
     "inputWidgets": {},
     "nuid": "448c5f30-80fc-4005-a394-457e9937771c",
     "showTitle": true,
     "tableResultSettingsMap": {},
     "title": "enrich transactions with metadata"
    }
   },
   "outputs": [],
   "source": [
    "CREATE STREAMING LIVE VIEW new_txs \n",
    "  COMMENT \"Livestream of new transactions\"\n",
    "AS SELECT txs.*, ref.accounting_treatment as accounting_treatment FROM stream(raw_txs) txs\n",
    "  INNER JOIN ref_accounting_treatment ref ON txs.accounting_treatment_id = ref.id"
   ]
  },
  {
   "cell_type": "code",
   "execution_count": 0,
   "metadata": {
    "application/vnd.databricks.v1+cell": {
     "cellMetadata": {},
     "inputWidgets": {},
     "nuid": "0407552c-840f-4152-97eb-1fac4eaf325b",
     "showTitle": true,
     "tableResultSettingsMap": {},
     "title": "Keep only the proper transactions. Fail if cost center isn't correct, discard the others."
    }
   },
   "outputs": [],
   "source": [
    "CREATE STREAMING TABLE cleaned_new_txs (\n",
    "  CONSTRAINT `Payments should be this year`  EXPECT (next_payment_date > date('2020-12-31')),\n",
    "  CONSTRAINT `Balance should be positive`    EXPECT (balance > 0 AND arrears_balance > 0) ON VIOLATION DROP ROW,\n",
    "  CONSTRAINT `Cost center must be specified` EXPECT (cost_center_code IS NOT NULL) ON VIOLATION FAIL UPDATE\n",
    ")\n",
    "  COMMENT \"Livestream of new transactions, cleaned and compliant\"\n",
    "AS SELECT * from STREAM(new_txs)"
   ]
  },
  {
   "cell_type": "code",
   "execution_count": 0,
   "metadata": {
    "application/vnd.databricks.v1+cell": {
     "cellMetadata": {},
     "inputWidgets": {},
     "nuid": "dd696d22-4b2b-4976-ad5e-207a0e186855",
     "showTitle": true,
     "tableResultSettingsMap": {},
     "title": "Let's quarantine the bad transaction for further analysis"
    }
   },
   "outputs": [],
   "source": [
    "-- This is the inverse condition of the above statement to quarantine incorrect data for further analysis.\n",
    "CREATE STREAMING TABLE quarantine_bad_txs (\n",
    "  CONSTRAINT `Payments should be this year`  EXPECT (next_payment_date <= date('2020-12-31')),\n",
    "  CONSTRAINT `Balance should be positive`    EXPECT (balance <= 0 OR arrears_balance <= 0) ON VIOLATION DROP ROW\n",
    ")\n",
    "  COMMENT \"Incorrect transactions requiring human analysis\"\n",
    "AS SELECT * from STREAM(new_txs)"
   ]
  },
  {
   "cell_type": "code",
   "execution_count": 0,
   "metadata": {
    "application/vnd.databricks.v1+cell": {
     "cellMetadata": {},
     "inputWidgets": {},
     "nuid": "b3900ca3-c91c-444f-bf8e-a0479f16cd4e",
     "showTitle": true,
     "tableResultSettingsMap": {},
     "title": "Enrich all historical transactions"
    }
   },
   "outputs": [],
   "source": [
    "CREATE MATERIALIZED VIEW historical_txs\n",
    "  COMMENT \"Historical loan transactions\"\n",
    "AS SELECT l.*, ref.accounting_treatment as accounting_treatment FROM raw_historical_loans l\n",
    "  INNER JOIN ref_accounting_treatment ref ON l.accounting_treatment_id = ref.id"
   ]
  },
  {
   "cell_type": "markdown",
   "metadata": {
    "application/vnd.databricks.v1+cell": {
     "cellMetadata": {},
     "inputWidgets": {},
     "nuid": "f4c30d32-d2ae-4697-b250-d05ac6ff91b1",
     "showTitle": false,
     "tableResultSettingsMap": {},
     "title": ""
    }
   },
   "source": [
    "\n",
    "## Gold layer\n",
    "\n",
    "<img style=\"float: right; padding-left: 10px\" src=\"https://github.com/QuentinAmbard/databricks-demo/raw/main/product_demos/dlt-golden-demo-loan-4.png\" width=\"600\"/>\n",
    "\n",
    "Our last step is to materialize the Gold Layer.\n",
    "\n",
    "Because these tables will be requested at scale using a SQL Endpoint, we'll add Zorder at the table level to ensure faster queries using `pipelines.autoOptimize.zOrderCols`, and DLT will handle the rest."
   ]
  },
  {
   "cell_type": "code",
   "execution_count": 0,
   "metadata": {
    "application/vnd.databricks.v1+cell": {
     "cellMetadata": {},
     "inputWidgets": {},
     "nuid": "8b3c8f3a-0424-4c78-aea0-020af5b619d0",
     "showTitle": true,
     "tableResultSettingsMap": {},
     "title": "Balance aggregate per cost location"
    }
   },
   "outputs": [],
   "source": [
    "CREATE MATERIALIZED VIEW total_loan_balances\n",
    "  COMMENT \"Combines historical and new loan data for unified rollup of loan balances\"\n",
    "  TBLPROPERTIES (\"pipelines.autoOptimize.zOrderCols\" = \"location_code\")\n",
    "AS SELECT sum(revol_bal)  AS bal, addr_state   AS location_code FROM historical_txs  GROUP BY addr_state\n",
    "  UNION SELECT sum(balance) AS bal, country_code AS location_code FROM cleaned_new_txs GROUP BY country_code"
   ]
  },
  {
   "cell_type": "code",
   "execution_count": 0,
   "metadata": {
    "application/vnd.databricks.v1+cell": {
     "cellMetadata": {},
     "inputWidgets": {},
     "nuid": "ab1a291d-9206-4481-9d21-6e9d8ddf10d7",
     "showTitle": true,
     "tableResultSettingsMap": {},
     "title": "Balance aggregate per cost center"
    }
   },
   "outputs": [],
   "source": [
    "CREATE MATERIALIZED VIEW new_loan_balances_by_cost_center\n",
    "  COMMENT \"Live table of new loan balances for consumption by different cost centers\"\n",
    "AS SELECT sum(balance) as sum_balance, cost_center_code FROM cleaned_new_txs\n",
    "  GROUP BY cost_center_code"
   ]
  },
  {
   "cell_type": "code",
   "execution_count": 0,
   "metadata": {
    "application/vnd.databricks.v1+cell": {
     "cellMetadata": {},
     "inputWidgets": {},
     "nuid": "39125da4-1546-49f8-a69a-9f61b167f4aa",
     "showTitle": true,
     "tableResultSettingsMap": {},
     "title": "Balance aggregate per country"
    }
   },
   "outputs": [],
   "source": [
    "CREATE MATERIALIZED VIEW new_loan_balances_by_country\n",
    "  COMMENT \"Live table of new loan balances per country\"\n",
    "AS SELECT sum(count) as sum_count, country_code FROM cleaned_new_txs GROUP BY country_code"
   ]
  },
  {
   "cell_type": "markdown",
   "metadata": {
    "application/vnd.databricks.v1+cell": {
     "cellMetadata": {},
     "inputWidgets": {},
     "nuid": "21452324-0ccd-47cc-a005-1b782529195a",
     "showTitle": false,
     "tableResultSettingsMap": {},
     "title": ""
    }
   },
   "source": [
    "## Next steps\n",
    "\n",
    "Your DLT pipeline is ready to be started. <a dbdemos-pipeline-id=\"dlt-loans\" href=\"/#joblist/pipelines/18fe174b-523d-456f-9f6d-eba868434c66\">Click here to access the pipeline</a> created for you using this notebook.\n",
    "\n",
    "To create a new one, Open the DLT menu, create a pipeline and select this notebook to run it. To generate sample data, please run the [companion notebook]($./_resources/00-Loan-Data-Generator) (make sure the path where you read and write the data are the same!)\n",
    "\n",
    "Datas Analyst can start using DBSQL to analyze data and track our Loan metrics.  Data Scientist can also access the data to start building models to predict payment default or other more advanced use-cases."
   ]
  },
  {
   "cell_type": "markdown",
   "metadata": {
    "application/vnd.databricks.v1+cell": {
     "cellMetadata": {},
     "inputWidgets": {},
     "nuid": "3c4922c0-d183-4d60-9fce-6668548dfd55",
     "showTitle": false,
     "tableResultSettingsMap": {},
     "title": ""
    }
   },
   "source": [
    "## Tracking data quality\n",
    "\n",
    "Expectations stats are automatically available as system table.\n",
    "\n",
    "This information let you monitor your data ingestion quality. \n",
    "\n",
    "You can leverage DBSQL to request these table and build custom alerts based on the metrics your business is tracking.\n",
    "\n",
    "\n",
    "See [how to access your DLT metrics]($./03-Log-Analysis)\n",
    "\n",
    "<img width=\"500\" src=\"https://github.com/databricks-demos/dbdemos-resources/blob/main/images/product/dlt/dlt-loans-dashboard.png?raw=true\">\n",
    "\n",
    "<a dbdemos-dashboard-id=\"dlt-expectations\" href='/sql/dashboardsv3/01f03f2ee4bb1cb9be3ce8b69670e763' target=\"_blank\">Data Quality Dashboard example</a>"
   ]
  }
 ],
 "metadata": {
  "application/vnd.databricks.v1+notebook": {
   "computePreferences": null,
   "dashboards": [],
   "environmentMetadata": {
    "environment_version": "2"
   },
   "inputWidgetPreferences": null,
   "language": "sql",
   "notebookMetadata": {
    "pythonIndentUnit": 2
   },
   "notebookName": "01-DLT-Loan-pipeline-SQL",
   "widgets": {}
  },
  "language_info": {
   "name": "sql"
  }
 },
 "nbformat": 4,
 "nbformat_minor": 0
}
