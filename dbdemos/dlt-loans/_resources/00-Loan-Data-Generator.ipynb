{
 "cells": [
  {
   "cell_type": "code",
   "execution_count": 0,
   "metadata": {
    "application/vnd.databricks.v1+cell": {
     "cellMetadata": {},
     "inputWidgets": {},
     "nuid": "5d98fc26-fdbe-41bb-ba96-1476d8548a43",
     "showTitle": false,
     "tableResultSettingsMap": {},
     "title": ""
    }
   },
   "outputs": [],
   "source": [
    "%pip install iso3166 Faker"
   ]
  },
  {
   "cell_type": "markdown",
   "metadata": {
    "application/vnd.databricks.v1+cell": {
     "cellMetadata": {},
     "inputWidgets": {},
     "nuid": "25e9e2f2-6677-4e9f-b76f-de6e0f56ff9f",
     "showTitle": false,
     "tableResultSettingsMap": {},
     "title": ""
    }
   },
   "source": [
    "# Data generator for DLT pipeline\n",
    "This notebook will generate data in the given storage path to simulate a data flow. \n",
    "\n",
    "**Make sure the storage path matches what you defined in your DLT pipeline as input.**\n",
    "\n",
    "1. Run Cmd 2 to show widgets\n",
    "2. Specify Storage path in widget\n",
    "3. \"Run All\" to generate your data\n",
    "4. When finished generating data, \"Stop Execution\"\n",
    "\n",
    "<!-- Collect usage data (view). Remove it to disable collection. View README for more details.  -->\n",
    "<img width=\"1px\" src=\"https://ppxrzfxige.execute-api.us-west-2.amazonaws.com/v1/analytics?category=data-engineering&org_id=3782931733495456&notebook=%2F_resources%2F00-Loan-Data-Generator&demo_name=dlt-loans&event=VIEW&path=%2F_dbdemos%2Fdata-engineering%2Fdlt-loans%2F_resources%2F00-Loan-Data-Generator&version=1&user_hash=f54348b201997908b91ace6288a9864114e7faea0de6a910579a7ab80989b7e0\">"
   ]
  },
  {
   "cell_type": "code",
   "execution_count": 0,
   "metadata": {
    "application/vnd.databricks.v1+cell": {
     "cellMetadata": {
      "byteLimit": 2048000,
      "rowLimit": 10000
     },
     "inputWidgets": {},
     "nuid": "0cbdce81-c714-49e4-81eb-7991b8e7ac1b",
     "showTitle": true,
     "tableResultSettingsMap": {},
     "title": "Run First for Widgets"
    }
   },
   "outputs": [],
   "source": [
    "catalog = \"dbdemos\"\n",
    "schema = dbName = db = \"dbdemos_dlt_loan\"\n",
    "\n",
    "volume_name = \"raw_data\"\n",
    "\n",
    "dbutils.widgets.combobox('reset_all_data', 'false', ['true', 'false'], 'Reset all existing data')\n",
    "dbutils.widgets.combobox('batch_wait', '30', ['15', '30', '45', '60'], 'Speed (secs between writes)')\n",
    "dbutils.widgets.combobox('num_recs', '10000', ['5000', '10000', '20000'], 'Volume (# records per writes)')\n",
    "dbutils.widgets.combobox('batch_count', '1', ['1', '100', '200', '500'], 'Write count (how many times do we append data)')"
   ]
  },
  {
   "cell_type": "code",
   "execution_count": 0,
   "metadata": {
    "application/vnd.databricks.v1+cell": {
     "cellMetadata": {
      "byteLimit": 2048000,
      "rowLimit": 10000
     },
     "inputWidgets": {},
     "nuid": "c72e88c7-5e0b-46e6-b049-ef9aba9a38d8",
     "showTitle": false,
     "tableResultSettingsMap": {},
     "title": ""
    }
   },
   "outputs": [],
   "source": [
    "spark.sql(f'CREATE CATALOG IF NOT EXISTS `{catalog}`')\n",
    "spark.sql(f'USE CATALOG `{catalog}`')\n",
    "spark.sql(f'CREATE SCHEMA IF NOT EXISTS `{catalog}`.`{schema}`')\n",
    "spark.sql(f'USE SCHEMA `{schema}`')\n",
    "spark.sql(f'CREATE VOLUME IF NOT EXISTS `{catalog}`.`{schema}`.`{volume_name}`')\n",
    "volume_folder =  f\"/Volumes/{catalog}/{db}/{volume_name}\""
   ]
  },
  {
   "cell_type": "code",
   "execution_count": 0,
   "metadata": {
    "application/vnd.databricks.v1+cell": {
     "cellMetadata": {
      "byteLimit": 2048000,
      "rowLimit": 10000
     },
     "inputWidgets": {},
     "nuid": "e20d542a-61b5-4687-ac0b-f97830ce8559",
     "showTitle": false,
     "tableResultSettingsMap": {},
     "title": ""
    }
   },
   "outputs": [],
   "source": [
    "import pyspark.sql.functions as F\n",
    "output_path = volume_folder\n",
    "dbutils.fs.mkdirs(output_path)\n",
    "reset_all_data = dbutils.widgets.get('reset_all_data') == \"true\"\n",
    "\n",
    "\n",
    "def cleanup_folder(path):\n",
    "  #Cleanup to have something nicer\n",
    "  for f in dbutils.fs.ls(path):\n",
    "    if f.name.startswith('_committed') or f.name.startswith('_started') or f.name.startswith('_SUCCESS') :\n",
    "      dbutils.fs.rm(f.path)"
   ]
  },
  {
   "cell_type": "code",
   "execution_count": 0,
   "metadata": {
    "application/vnd.databricks.v1+cell": {
     "cellMetadata": {
      "byteLimit": 2048000,
      "rowLimit": 10000
     },
     "inputWidgets": {},
     "nuid": "f2268b32-9bbf-4d3e-bfa4-f517dcc840fa",
     "showTitle": false,
     "tableResultSettingsMap": {},
     "title": ""
    }
   },
   "outputs": [],
   "source": [
    "spark.read.csv('/databricks-datasets/lending-club-loan-stats', header=True) \\\n",
    "      .withColumn('id', F.monotonically_increasing_id()) \\\n",
    "      .withColumn('member_id', (F.rand()*1000000).cast('int')) \\\n",
    "      .withColumn('accounting_treatment_id', (F.rand()*6).cast('int')) \\\n",
    "      .repartition(50).write.mode('overwrite').option('header', True).format('csv').save(output_path+'/historical_loans')\n",
    "\n",
    "spark.createDataFrame([\n",
    "  (0, 'held_to_maturity'),\n",
    "  (1, 'available_for_sale'),\n",
    "  (2, 'amortised_cost'),\n",
    "  (3, 'loans_and_recs'),\n",
    "  (4, 'held_for_hedge'),\n",
    "  (5, 'fv_designated')\n",
    "], ['id', 'accounting_treatment']).write.format('delta').mode('overwrite').save(output_path + \"/ref_accounting_treatment\")\n",
    "\n",
    "cleanup_folder(output_path+'/historical_loans')\n",
    "cleanup_folder(output_path+'/ref_accounting_treatment')"
   ]
  },
  {
   "cell_type": "code",
   "execution_count": 0,
   "metadata": {
    "application/vnd.databricks.v1+cell": {
     "cellMetadata": {
      "byteLimit": 2048000,
      "rowLimit": 10000
     },
     "inputWidgets": {},
     "nuid": "aaf1637f-5eee-4c9c-8e83-93be9dba9422",
     "showTitle": false,
     "tableResultSettingsMap": {},
     "title": ""
    }
   },
   "outputs": [],
   "source": [
    "from faker import Faker\n",
    "from collections import OrderedDict \n",
    "import pyspark.sql.functions as F\n",
    "import uuid\n",
    "import random\n",
    "\n",
    "fake = Faker()\n",
    "base_rates = OrderedDict([(\"ZERO\", 0.5),(\"UKBRBASE\", 0.1),(\"FDTR\", 0.3),(None, 0.01)])\n",
    "base_rate = F.udf(lambda:fake.random_elements(elements=base_rates, length=1)[0])\n",
    "fake_country_code = F.udf(fake.country_code)\n",
    "\n",
    "fake_date = F.udf(lambda:fake.date_time_between(start_date=\"-2y\", end_date=\"+0y\").strftime(\"%m-%d-%Y %H:%M:%S\"))\n",
    "fake_date_future = F.udf(lambda:fake.date_time_between(start_date=\"+0y\", end_date=\"+2y\").strftime(\"%m-%d-%Y %H:%M:%S\"))\n",
    "fake_date_current = F.udf(lambda:fake.date_time_this_month().strftime(\"%m-%d-%Y %H:%M:%S\"))\n",
    "def random_choice(enum_list):\n",
    "  return F.udf(lambda:random.choice(enum_list))\n",
    "\n",
    "fake.date_time_between(start_date=\"-10y\", end_date=\"+30y\")\n",
    "\n",
    "def generate_transactions(num, folder, file_count, mode):\n",
    "  (spark.range(0,num)\n",
    "  .withColumn(\"acc_fv_change_before_taxes\", (F.rand()*1000+100).cast('int'))\n",
    "  .withColumn(\"purpose\", (F.rand()*1000+100).cast('int'))\n",
    "\n",
    "  .withColumn(\"accounting_treatment_id\", (F.rand()*6).cast('int'))\n",
    "  .withColumn(\"accrued_interest\", (F.rand()*100+100).cast('int'))\n",
    "  .withColumn(\"arrears_balance\", (F.rand()*100+100).cast('int'))\n",
    "  .withColumn(\"base_rate\", base_rate())\n",
    "  .withColumn(\"behavioral_curve_id\", (F.rand()*6).cast('int'))\n",
    "  .withColumn(\"cost_center_code\", fake_country_code())\n",
    "  .withColumn(\"country_code\", fake_country_code())\n",
    "  .withColumn(\"date\", fake_date())\n",
    "  .withColumn(\"end_date\", fake_date_future())\n",
    "  .withColumn(\"next_payment_date\", fake_date_current())\n",
    "  .withColumn(\"first_payment_date\", fake_date_current())\n",
    "  .withColumn(\"last_payment_date\", fake_date_current())\n",
    "  .withColumn(\"behavioral_curve_id\", (F.rand()*6).cast('int'))\n",
    "  .withColumn(\"count\", (F.rand()*500).cast('int'))\n",
    "  .withColumn(\"arrears_balance\", (F.rand()*500).cast('int'))\n",
    "  .withColumn(\"balance\", (F.rand()*500-30).cast('int'))\n",
    "  .withColumn(\"imit_amount\", (F.rand()*500).cast('int'))\n",
    "  .withColumn(\"minimum_balance_eur\", (F.rand()*500).cast('int'))\n",
    "  .withColumn(\"type\", random_choice([\n",
    "          \"bonds\",\"call\",\"cd\",\"credit_card\",\"current\",\"depreciation\",\"internet_only\",\"ira\",\n",
    "          \"isa\",\"money_market\",\"non_product\",\"deferred\",\"expense\",\"income\",\"intangible\",\"prepaid_card\",\n",
    "          \"provision\",\"reserve\",\"suspense\",\"tangible\",\"non_deferred\",\"retail_bonds\",\"savings\",\n",
    "          \"time_deposit\",\"vostro\",\"other\",\"amortisation\"\n",
    "        ])())\n",
    "  .withColumn(\"status\", random_choice([\"active\", \"cancelled\", \"cancelled_payout_agreed\", \"transactional\", \"other\"])())\n",
    "  .withColumn(\"guarantee_scheme\", random_choice([\"repo\", \"covered_bond\", \"derivative\", \"none\", \"other\"])())\n",
    "  .withColumn(\"encumbrance_type\", random_choice([\"be_pf\", \"bg_dif\", \"hr_di\", \"cy_dps\", \"cz_dif\", \"dk_gdfi\", \"ee_dgs\", \"fi_dgf\", \"fr_fdg\",  \"gb_fscs\",\n",
    "                                                 \"de_edb\", \"de_edo\", \"de_edw\", \"gr_dgs\", \"hu_ndif\", \"ie_dgs\", \"it_fitd\", \"lv_dgf\", \"lt_vi\",\n",
    "                                                 \"lu_fgdl\", \"mt_dcs\", \"nl_dgs\", \"pl_bfg\", \"pt_fgd\", \"ro_fgdb\", \"sk_dpf\", \"si_dgs\", \"es_fgd\",\n",
    "                                                 \"se_ndo\", \"us_fdic\"])())\n",
    "  .withColumn(\"purpose\", random_choice(['admin','annual_bonus_accruals','benefit_in_kind','capital_gain_tax','cash_management','cf_hedge','ci_service',\n",
    "                    'clearing','collateral','commitments','computer_and_it_cost','corporation_tax','credit_card_fee','critical_service','current_account_fee',\n",
    "                    'custody','employee_stock_option','dealing_revenue','dealing_rev_deriv','dealing_rev_deriv_nse','dealing_rev_fx','dealing_rev_fx_nse',\n",
    "                    'dealing_rev_sec','dealing_rev_sec_nse','deposit','derivative_fee','dividend','div_from_cis','div_from_money_mkt','donation','employee',\n",
    "                    'escrow','fees','fine','firm_operating_expenses','firm_operations','fx','goodwill','insurance_fee','intra_group_fee','investment_banking_fee',\n",
    "                    'inv_in_subsidiary','investment_property','interest','int_on_bond_and_frn','int_on_bridging_loan','int_on_credit_card','int_on_ecgd_lending',\n",
    "                    'int_on_deposit','int_on_derivative','int_on_deriv_hedge','int_on_loan_and_adv','int_on_money_mkt','int_on_mortgage','int_on_sft','ips',\n",
    "                    'loan_and_advance_fee','ni_contribution','manufactured_dividend','mortgage_fee','non_life_ins_premium','occupancy_cost','operational',\n",
    "                    'operational_excess','operational_escrow','other','other_expenditure','other_fs_fee','other_non_fs_fee','other_social_contrib',\n",
    "                    'other_staff_rem','other_staff_cost','overdraft_fee','own_property','pension','ppe','prime_brokerage','property','recovery',\n",
    "                    'redundancy_pymt','reference','reg_loss','regular_wages','release','rent','restructuring','retained_earnings','revaluation',\n",
    "                    'revenue_reserve','share_plan','staff','system','tax','unsecured_loan_fee','write_off'])())\n",
    "  ).repartition(file_count).write.format('json').mode(mode).save(folder)\n",
    "  cleanup_folder(output_path+'/raw_transactions')\n",
    "  \n",
    "generate_transactions(10000, output_path+'/raw_transactions', 10, \"overwrite\")"
   ]
  },
  {
   "cell_type": "code",
   "execution_count": 0,
   "metadata": {
    "application/vnd.databricks.v1+cell": {
     "cellMetadata": {
      "byteLimit": 2048000,
      "rowLimit": 10000
     },
     "inputWidgets": {},
     "nuid": "10c5730a-fb50-4e58-a6dc-34aac8c01eca",
     "showTitle": false,
     "tableResultSettingsMap": {},
     "title": ""
    }
   },
   "outputs": [],
   "source": [
    "import time\n",
    "batch_count = int(dbutils.widgets.get('batch_count'))\n",
    "assert batch_count <= 500, \"please don't go above 500 writes, the generator will run for a too long time\"\n",
    "for i in range(0, int(dbutils.widgets.get('batch_count'))):\n",
    "  if batch_count > 1:\n",
    "    time.sleep(int(dbutils.widgets.get('batch_wait')))\n",
    "  generate_transactions(int(dbutils.widgets.get('num_recs')), output_path+'/raw_transactions', 1, \"append\")\n",
    "  print(f'Finished writing batch: {i}')"
   ]
  },
  {
   "cell_type": "code",
   "execution_count": 0,
   "metadata": {
    "application/vnd.databricks.v1+cell": {
     "cellMetadata": {},
     "inputWidgets": {},
     "nuid": "2ceb8f48-6b96-4f62-91aa-176f3b18e6dd",
     "showTitle": false,
     "tableResultSettingsMap": {},
     "title": ""
    }
   },
   "outputs": [],
   "source": []
  }
 ],
 "metadata": {
  "application/vnd.databricks.v1+notebook": {
   "computePreferences": null,
   "dashboards": [],
   "environmentMetadata": {
    "environment_version": "2"
   },
   "inputWidgetPreferences": null,
   "language": "python",
   "notebookMetadata": {
    "pythonIndentUnit": 2
   },
   "notebookName": "00-Loan-Data-Generator",
   "widgets": {
    "batch_count": {
     "currentValue": "1",
     "nuid": "568fe744-2858-46e6-b5d4-c76fc4047fb4",
     "typedWidgetInfo": {
      "autoCreated": false,
      "defaultValue": "1",
      "label": "Write count (how many times do we append data)",
      "name": "batch_count",
      "options": {
       "widgetDisplayType": "Dropdown",
       "choices": [
        "1",
        "100",
        "200",
        "500"
       ],
       "fixedDomain": false,
       "multiselect": false
      },
      "parameterDataType": "String"
     },
     "widgetInfo": {
      "widgetType": "combobox",
      "defaultValue": "1",
      "label": "Write count (how many times do we append data)",
      "name": "batch_count",
      "options": {
       "widgetType": "dropdown",
       "autoCreated": false,
       "choices": [
        "1",
        "100",
        "200",
        "500"
       ]
      }
     }
    },
    "batch_wait": {
     "currentValue": "30",
     "nuid": "53d21e9c-c855-4990-946f-257e7f4e9e4a",
     "typedWidgetInfo": {
      "autoCreated": false,
      "defaultValue": "30",
      "label": "Speed (secs between writes)",
      "name": "batch_wait",
      "options": {
       "widgetDisplayType": "Dropdown",
       "choices": [
        "15",
        "30",
        "45",
        "60"
       ],
       "fixedDomain": false,
       "multiselect": false
      },
      "parameterDataType": "String"
     },
     "widgetInfo": {
      "widgetType": "combobox",
      "defaultValue": "30",
      "label": "Speed (secs between writes)",
      "name": "batch_wait",
      "options": {
       "widgetType": "dropdown",
       "autoCreated": false,
       "choices": [
        "15",
        "30",
        "45",
        "60"
       ]
      }
     }
    },
    "num_recs": {
     "currentValue": "10000",
     "nuid": "27ea9bef-5e95-4a54-8b78-99bd95c19cbe",
     "typedWidgetInfo": {
      "autoCreated": false,
      "defaultValue": "10000",
      "label": "Volume (# records per writes)",
      "name": "num_recs",
      "options": {
       "widgetDisplayType": "Dropdown",
       "choices": [
        "5000",
        "10000",
        "20000"
       ],
       "fixedDomain": false,
       "multiselect": false
      },
      "parameterDataType": "String"
     },
     "widgetInfo": {
      "widgetType": "combobox",
      "defaultValue": "10000",
      "label": "Volume (# records per writes)",
      "name": "num_recs",
      "options": {
       "widgetType": "dropdown",
       "autoCreated": false,
       "choices": [
        "5000",
        "10000",
        "20000"
       ]
      }
     }
    },
    "reset_all_data": {
     "currentValue": "false",
     "nuid": "05ad4124-765d-4247-91e1-21a4ac2b100f",
     "typedWidgetInfo": {
      "autoCreated": false,
      "defaultValue": "false",
      "label": "Reset all existing data",
      "name": "reset_all_data",
      "options": {
       "widgetDisplayType": "Dropdown",
       "choices": [
        "true",
        "false"
       ],
       "fixedDomain": false,
       "multiselect": false
      },
      "parameterDataType": "String"
     },
     "widgetInfo": {
      "widgetType": "combobox",
      "defaultValue": "false",
      "label": "Reset all existing data",
      "name": "reset_all_data",
      "options": {
       "widgetType": "dropdown",
       "autoCreated": false,
       "choices": [
        "true",
        "false"
       ]
      }
     }
    }
   }
  },
  "language_info": {
   "name": "python"
  }
 },
 "nbformat": 4,
 "nbformat_minor": 0
}
