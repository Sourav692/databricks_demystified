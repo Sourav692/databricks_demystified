{
 "cells": [
  {
   "cell_type": "markdown",
   "metadata": {
    "application/vnd.databricks.v1+cell": {
     "cellMetadata": {},
     "inputWidgets": {},
     "nuid": "750923a2-0b38-49bd-ac36-1e5b74d73ab0",
     "showTitle": false,
     "tableResultSettingsMap": {},
     "title": ""
    }
   },
   "source": [
    "# Test Datasets setup\n",
    "\n",
    "We have 2 files that we'll be using as dataset saved in git within the project (you can open them directly under the `dataset` folder). \n",
    "\n",
    "All we have to do is move these local files to our blob storage so that we can read them within our DLT test pipeline.\n",
    "\n",
    "*Note: We could also have used Faker to generate them dynamically.*\n",
    "\n",
    "<!-- Collect usage data (view). Remove it to disable collection. View README for more details.  -->\n",
    "<img width=\"1px\" src=\"https://ppxrzfxige.execute-api.us-west-2.amazonaws.com/v1/analytics?category=data-engineering&org_id=3782931733495456&notebook=%2Ftest%2FDLT-Test-Dataset-setup&demo_name=dlt-unit-test&event=VIEW&path=%2F_dbdemos%2Fdata-engineering%2Fdlt-unit-test%2Ftest%2FDLT-Test-Dataset-setup&version=1&user_hash=f54348b201997908b91ace6288a9864114e7faea0de6a910579a7ab80989b7e0\">"
   ]
  },
  {
   "cell_type": "code",
   "execution_count": 0,
   "metadata": {
    "application/vnd.databricks.v1+cell": {
     "cellMetadata": {},
     "inputWidgets": {},
     "nuid": "9582e735-a3cb-49d4-ae8e-5c9b765299b8",
     "showTitle": false,
     "tableResultSettingsMap": {},
     "title": ""
    }
   },
   "outputs": [],
   "source": [
    "catalog = \"dbdemos\"\n",
    "schema = dbName = db = \"dbdemos_dlt_unit_test\"\n",
    "volume_name = \"raw_data\""
   ]
  },
  {
   "cell_type": "code",
   "execution_count": 0,
   "metadata": {
    "application/vnd.databricks.v1+cell": {
     "cellMetadata": {},
     "inputWidgets": {},
     "nuid": "2363c2aa-3983-4e93-a6da-c9e0b3e79f74",
     "showTitle": false,
     "tableResultSettingsMap": {},
     "title": ""
    }
   },
   "outputs": [],
   "source": [
    "spark.sql(f'CREATE CATALOG IF NOT EXISTS `{catalog}`')\n",
    "spark.sql(f'USE CATALOG `{catalog}`')\n",
    "spark.sql(f'CREATE SCHEMA IF NOT EXISTS `{catalog}`.`{schema}`')\n",
    "spark.sql(f'USE SCHEMA `{schema}`')\n",
    "spark.sql(f'CREATE VOLUME IF NOT EXISTS `{catalog}`.`{schema}`.`{volume_name}`')\n",
    "volume_folder =  f\"/Volumes/{catalog}/{db}/{volume_name}\""
   ]
  },
  {
   "cell_type": "code",
   "execution_count": 0,
   "metadata": {
    "application/vnd.databricks.v1+cell": {
     "cellMetadata": {},
     "inputWidgets": {},
     "nuid": "a375ea68-578e-4752-b2a0-6aac3f118fe3",
     "showTitle": true,
     "tableResultSettingsMap": {},
     "title": "Move our test resources to DBFS for tests"
    }
   },
   "outputs": [],
   "source": [
    "#We could use repo arbitrary files, but we'll prefer working without files to support workpsace (non repo) deployment too.\n",
    "#dbutils.fs.rm(\"/Volumes/dbdemos/dbdemos_dlt_unit_test/raw_data/test/customers/users_json\", True)\n",
    "#dbutils.fs.mkdirs(\"/Volumes/dbdemos/dbdemos_dlt_unit_test/raw_data/test/users_json\")\n",
    "#dbutils.fs.mkdirs(\"/Volumes/dbdemos/dbdemos_dlt_unit_test/raw_data/test/spend_csv\")\n",
    "\n",
    "#import shutil\n",
    "#shutil.copyfile(\"./dataset/users.json\", \"/Volumes/dbdemos/dbdemos_dlt_unit_test/raw_data/test/users_json/users.json\")\n",
    "#shutil.copyfile(\"./dataset/spend.csv\", \"/Volumes/dbdemos/dbdemos_dlt_unit_test/raw_data/test/spend_csv/spend.csv\")\n",
    "\n",
    "\n",
    "spend_csv = \"\"\"id,age,annual_income,spending_core\n",
    "3,47,858.9,99.4\n",
    "1,47,861.9,48.1\n",
    "2,97,486.4,880.8\n",
    "4,,283.8,117.8\n",
    ",95,847.5,840.9\n",
    "invalid_id,1,514.5,284.5\"\"\"\n",
    "\n",
    "dbutils.fs.put('/Volumes/dbdemos/dbdemos_dlt_unit_test/raw_data/test/spend_csv/spend.csv', spend_csv, True)\n",
    "    \n",
    "users_json = \"\"\"{\"id\":1,\"email\":\"joneschristina@example.org\",\"creation_date\":\"11-28-2021 12:08:46\",\"last_activity_date\":\"08-20-2021 08:24:44\",\"firstname\":\"Randall\",\"lastname\":\"Espinoza\",\"address\":\"71571 Jennifer Creek - East John, CO 81653\",\"city\":\"Port Nicholas\",\"last_ip\":\"22.207.225.77\",\"postcode\":\"62389\"}\n",
    "{\"id\":4,\"email\":\"christybautista@example.net\",\"creation_date\":\"06-30-2022 22:51:30\",\"last_activity_date\":\"08-22-2021 17:25:06\",\"firstname\":\"Jose\",\"lastname\":\"Bell\",\"address\":\"865 Young Crest - Lake Adriennebury, VA 67749\",\"city\":\"Brownstad\",\"last_ip\":\"159.111.101.250\",\"postcode\":\"52432\"}\n",
    "{\"id\":0,\"email\":\"amccormick@example.com\",\"creation_date\":\"10-21-2021 02:37:38\",\"last_activity_date\":\"07-22-2021 15:06:48\",\"firstname\":\"Dylan\",\"lastname\":\"Barber\",\"address\":\"7995 Ronald Flat Suite 597 - Williefurt, AL 37894\",\"city\":\"Port Steven\",\"last_ip\":\"173.88.213.168\",\"postcode\":\"58368\"}\n",
    "{\"id\":3,\"email\":\"jenniferbennett@example.org\",\"creation_date\":\"07-06-2022 12:27:24\",\"last_activity_date\":\"01-09-2022 15:04:45\",\"firstname\":\"Phillip\",\"lastname\":\"Morgan\",\"address\":\"523 Garza Crossroad - New Maryview, OK 92301\",\"city\":\"Julieshire\",\"last_ip\":\"170.233.120.199\",\"postcode\":\"34528\"}\n",
    "{\"id\":2,\"email\":\"alexis25@example.org\",\"creation_date\":\"09-10-2021 02:31:37\",\"last_activity_date\":\"01-11-2022 20:39:01\",\"firstname\":\"Gregory\",\"lastname\":\"Crane\",\"address\":\"068 Shawn Port - West Jessica, KS 84864\",\"city\":\"South Tonya\",\"last_ip\":\"192.220.63.96\",\"postcode\":\"88033\"}\n",
    "{\"email\":\"davidporter@example.com\",\"creation_date\":\"05-28-2022 09:54:50\",\"last_activity_date\":\"12-18-2021 21:48:48\",\"firstname\":\"Jeremy\",\"lastname\":\"Knight\",\"address\":\"06183 Acevedo Bypass - Petermouth, ME 34177\",\"city\":\"West Brianburgh\",\"last_ip\":\"53.240.159.208\",\"postcode\":\"73380\"}\n",
    "{\"id\":\"invalid ID\",\"email\":\"margaret84@example.com\",\"creation_date\":\"12-20-2021 19:57:28\",\"last_activity_date\":\"07-27-2021 09:39:28\",\"firstname\":\"Angela\",\"lastname\":\"Adams\",\"address\":\"098 Daniel Ferry Suite 565 - South Andrea, ND 36326\",\"city\":\"New Mariafort\",\"last_ip\":\"7.176.250.65\",\"postcode\":\"21300\"}\"\"\"\n",
    "\n",
    "dbutils.fs.put('/Volumes/dbdemos/dbdemos_dlt_unit_test/raw_data/test/users_json/users.json', users_json, True)"
   ]
  },
  {
   "cell_type": "markdown",
   "metadata": {
    "application/vnd.databricks.v1+cell": {
     "cellMetadata": {},
     "inputWidgets": {},
     "nuid": "6d04f25f-d38f-4a65-b360-295aa1f1090d",
     "showTitle": false,
     "tableResultSettingsMap": {},
     "title": ""
    }
   },
   "source": [
    "## Review Users dataset\n",
    "\n",
    "The ./dataset/users.json dataset contains:\n",
    "\n",
    "* 4 \"standard users\"\n",
    "* 1 user with Null ID\n",
    "* 1 user with an ID as a string"
   ]
  },
  {
   "cell_type": "code",
   "execution_count": 0,
   "metadata": {
    "application/vnd.databricks.v1+cell": {
     "cellMetadata": {},
     "inputWidgets": {},
     "nuid": "e2323fc6-4578-4b7a-9647-e75d9928ca7a",
     "showTitle": false,
     "tableResultSettingsMap": {},
     "title": ""
    }
   },
   "outputs": [],
   "source": [
    "%fs head /Volumes/dbdemos/dbdemos_dlt_unit_test/raw_data/test/users_json/users.json"
   ]
  },
  {
   "cell_type": "markdown",
   "metadata": {
    "application/vnd.databricks.v1+cell": {
     "cellMetadata": {},
     "inputWidgets": {},
     "nuid": "3d5588cf-b9f0-4dea-8a48-c90e527eaf21",
     "showTitle": false,
     "tableResultSettingsMap": {},
     "title": ""
    }
   },
   "source": [
    "## Review Spend dataset\n",
    "\n",
    "The ./dataset/spend.csv dataset contains:\n",
    "\n",
    "* 3 \"standard spends\"\n",
    "* 1 spend with Null age\n",
    "* 1 spend with null ID\n",
    "* 1 spend with incompatible schema (ID as string)"
   ]
  },
  {
   "cell_type": "code",
   "execution_count": 0,
   "metadata": {
    "application/vnd.databricks.v1+cell": {
     "cellMetadata": {},
     "inputWidgets": {},
     "nuid": "00f79faf-65aa-4d1e-829b-55ec93373be3",
     "showTitle": false,
     "tableResultSettingsMap": {},
     "title": ""
    }
   },
   "outputs": [],
   "source": [
    "%fs head /Volumes/dbdemos/dbdemos_dlt_unit_test/raw_data/test/spend_csv/spend.csv"
   ]
  },
  {
   "cell_type": "markdown",
   "metadata": {
    "application/vnd.databricks.v1+cell": {
     "cellMetadata": {},
     "inputWidgets": {},
     "nuid": "256b19dc-7fac-4a2f-a66a-91fd7b42d3b9",
     "showTitle": false,
     "tableResultSettingsMap": {},
     "title": ""
    }
   },
   "source": [
    "That's it, our dataset is ready!"
   ]
  }
 ],
 "metadata": {
  "application/vnd.databricks.v1+notebook": {
   "computePreferences": null,
   "dashboards": [],
   "environmentMetadata": {
    "environment_version": "2"
   },
   "inputWidgetPreferences": null,
   "language": "python",
   "notebookMetadata": {
    "pythonIndentUnit": 2
   },
   "notebookName": "DLT-Test-Dataset-setup",
   "widgets": {}
  },
  "language_info": {
   "name": "python"
  }
 },
 "nbformat": 4,
 "nbformat_minor": 0
}
