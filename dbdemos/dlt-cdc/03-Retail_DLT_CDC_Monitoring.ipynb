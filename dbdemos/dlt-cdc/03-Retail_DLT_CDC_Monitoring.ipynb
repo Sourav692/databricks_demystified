{
 "cells": [
  {
   "cell_type": "markdown",
   "metadata": {
    "application/vnd.databricks.v1+cell": {
     "cellMetadata": {},
     "inputWidgets": {},
     "nuid": "9be9ded1-73e4-476e-a824-17a876093ded",
     "showTitle": false,
     "tableResultSettingsMap": {},
     "title": ""
    }
   },
   "source": [
    "# Delta Live Tables - Monitoring  \n",
    "  \n",
    "\n",
    "<img style=\"float:right\" width=\"500\" src=\"https://github.com/QuentinAmbard/databricks-demo/raw/main/retail/resources/images/retail-dlt-data-quality-dashboard.png\">\n",
    "\n",
    "Each DLT Pipeline saves events and expectations metrics in the Storage Location defined on the pipeline. From this table we can see what is happening and the quality of the data passing through it.\n",
    "\n",
    "You can leverage the expecations directly as a SQL table with Databricks SQL to track your expectation metrics and send alerts as required. \n",
    "\n",
    "This notebook extracts and analyses expectation metrics to build such KPIS.\n",
    "\n",
    "## Accessing the Delta Live Table pipeline events with Unity Catalog\n",
    "\n",
    "Databricks provides an `event_log` function which is automatically going to lookup the event log table. You can specify any table to get access to the logs:\n",
    "\n",
    "`SELECT * FROM event_log(TABLE(catalog.schema.my_table))`\n",
    "\n",
    "#### Using Legacy hive_metastore\n",
    "*Note: If you are not using Unity Catalog (legacy hive_metastore), you can find your event log location opening the Settings of your DLT pipeline, under `storage` :*\n",
    "\n",
    "```\n",
    "{\n",
    "    ...\n",
    "    \"name\": \"lakehouse_churn_dlt\",\n",
    "    \"storage\": \"/demos/dlt/loans\",\n",
    "    \"target\": \"your schema\"\n",
    "}\n",
    "```\n",
    "\n",
    "<!-- Collect usage data (view). Remove it to disable collection. View README for more details.  -->\n",
    "<img width=\"1px\" src=\"https://ppxrzfxige.execute-api.us-west-2.amazonaws.com/v1/analytics?category=data-engineering&org_id=3782931733495456&notebook=%2F03-Retail_DLT_CDC_Monitoring&demo_name=dlt-cdc&event=VIEW&path=%2F_dbdemos%2Fdata-engineering%2Fdlt-cdc%2F03-Retail_DLT_CDC_Monitoring&version=1&user_hash=f54348b201997908b91ace6288a9864114e7faea0de6a910579a7ab80989b7e0\">"
   ]
  },
  {
   "cell_type": "markdown",
   "metadata": {
    "application/vnd.databricks.v1+cell": {
     "cellMetadata": {},
     "inputWidgets": {},
     "nuid": "c6c560e3-b5d4-4d55-a6b1-82fc2748cf70",
     "showTitle": false,
     "tableResultSettingsMap": {},
     "title": null
    }
   },
   "source": [
    "### A cluster has been created for this demo\n",
    "To run this demo, just select the cluster `dbdemos-dlt-cdc-sourav_banerjee` from the dropdown menu ([open cluster configuration](https://dbc-3f5c1760-ce4f.cloud.databricks.com/#setting/clusters/0601-212443-lcwo2gk4/configuration)). <br />\n",
    "*Note: If the cluster was deleted after 30 days, you can re-create it with `dbdemos.create_cluster('dlt-cdc')` or re-install the demo: `dbdemos.install('dlt-cdc')`*"
   ]
  },
  {
   "cell_type": "code",
   "execution_count": 0,
   "metadata": {
    "application/vnd.databricks.v1+cell": {
     "cellMetadata": {},
     "inputWidgets": {},
     "nuid": "148f2c30-4087-4c48-870c-eb43f1ef35e6",
     "showTitle": true,
     "tableResultSettingsMap": {},
     "title": "Load DLT system table "
    }
   },
   "outputs": [],
   "source": [
    "%sql\n",
    "SELECT * FROM event_log(TABLE(dbdemos.dbdemos_dlt_cdc.customers)) "
   ]
  },
  {
   "cell_type": "markdown",
   "metadata": {
    "application/vnd.databricks.v1+cell": {
     "cellMetadata": {},
     "inputWidgets": {},
     "nuid": "9eecb1c7-ebc1-46eb-bc4a-2ba82c590ee7",
     "showTitle": false,
     "tableResultSettingsMap": {},
     "title": ""
    }
   },
   "source": [
    "## System table setup\n",
    "We'll create a table based on the events log being saved by DLT. The system tables are stored under the storage path defined in your DLT settings (the one defined in the widget):"
   ]
  },
  {
   "cell_type": "code",
   "execution_count": 0,
   "metadata": {
    "application/vnd.databricks.v1+cell": {
     "cellMetadata": {},
     "inputWidgets": {},
     "nuid": "56ec9105-d196-48d1-ad9e-b7c2d910b1d9",
     "showTitle": false,
     "tableResultSettingsMap": {},
     "title": ""
    }
   },
   "outputs": [],
   "source": [
    "%sql\n",
    "CREATE OR REPLACE TEMPORARY VIEW demo_cdc_dlt_system_event_log_raw \n",
    "  as SELECT * FROM event_log(TABLE(dbdemos.dbdemos_dlt_cdc.customers));\n",
    "SELECT * FROM demo_cdc_dlt_system_event_log_raw order by timestamp desc;"
   ]
  },
  {
   "cell_type": "markdown",
   "metadata": {
    "application/vnd.databricks.v1+cell": {
     "cellMetadata": {},
     "inputWidgets": {},
     "nuid": "b392cc92-cb0d-48b3-a6fb-da02f114c87c",
     "showTitle": false,
     "tableResultSettingsMap": {},
     "title": ""
    }
   },
   "source": [
    "#Delta Live Table expectation analysis\n",
    "Delta live table tracks our data quality through expectations. These expectations are stored as technical tables without the DLT log events. We can create a view to simply analyze this information\n",
    "\n",
    "**Make sure you set your DLT storage path in the widget!**\n",
    "\n",
    "<!-- Collect usage data (view). Remove it to disable collection. View README for more details.  -->\n",
    "<img width=\"1px\" src=\"https://ppxrzfxige.execute-api.us-west-2.amazonaws.com/v1/analytics?category=data-engineering&org_id=3782931733495456&notebook=%2F03-Retail_DLT_CDC_Monitoring&demo_name=dlt-cdc&event=VIEW&path=%2F_dbdemos%2Fdata-engineering%2Fdlt-cdc%2F03-Retail_DLT_CDC_Monitoring&version=1&user_hash=f54348b201997908b91ace6288a9864114e7faea0de6a910579a7ab80989b7e0\">\n",
    "<!-- [metadata={\"description\":\"Notebook extracting DLT expectations as delta tables used to build DBSQL data quality Dashboard.\",\n",
    " \"authors\":[\"quentin.ambard@databricks.com\"],\n",
    " \"db_resources\":{\"Dashboards\": [\"DLT Data Quality Stats\"]},\n",
    " \"search_tags\":{\"vertical\": \"retail\", \"step\": \"Data Engineering\", \"components\": [\"autoloader\", \"copy into\"]},\n",
    " \"canonicalUrl\": {\"AWS\": \"\", \"Azure\": \"\", \"GCP\": \"\"}}] -->"
   ]
  },
  {
   "cell_type": "markdown",
   "metadata": {
    "application/vnd.databricks.v1+cell": {
     "cellMetadata": {},
     "inputWidgets": {},
     "nuid": "f8e29333-91e7-4ecc-aded-3ef2292f94da",
     "showTitle": false,
     "tableResultSettingsMap": {},
     "title": ""
    }
   },
   "source": [
    "## Analyzing dlt_system_event_log_raw table structure\n",
    "The `details` column contains metadata about each Event sent to the Event Log. There are different fields depending on what type of Event it is. Some examples include:\n",
    "* `user_action` Events occur when taking actions like creating the pipeline\n",
    "* `flow_definition` Events occur when a pipeline is deployed or updated and have lineage, schema, and execution plan information\n",
    "  * `output_dataset` and `input_datasets` - output table/view and its upstream table(s)/view(s)\n",
    "  * `flow_type` - whether this is a complete or append flow\n",
    "  * `explain_text` - the Spark explain plan\n",
    "* `flow_progress` Events occur when a data flow starts running or finishes processing a batch of data\n",
    "  * `metrics` - currently contains `num_output_rows`\n",
    "  * `data_quality` - contains an array of the results of the data quality rules for this particular dataset\n",
    "    * `dropped_records`\n",
    "    * `expectations`\n",
    "      * `name`, `dataset`, `passed_records`, `failed_records`\n",
    "      \n",
    "We can leverage this information to track our table quality using SQL"
   ]
  },
  {
   "cell_type": "code",
   "execution_count": 0,
   "metadata": {
    "application/vnd.databricks.v1+cell": {
     "cellMetadata": {},
     "inputWidgets": {},
     "nuid": "238d8517-f6f7-435d-a7b3-a71bc7541ae9",
     "showTitle": false,
     "tableResultSettingsMap": {},
     "title": "Event Log - Raw Sequence of Events by Timestamp"
    }
   },
   "outputs": [],
   "source": [
    "%sql\n",
    "SELECT \n",
    "       id,\n",
    "       timestamp,\n",
    "       sequence,\n",
    "       event_type,\n",
    "       message,\n",
    "       level, \n",
    "       details\n",
    "  FROM demo_cdc_dlt_system_event_log_raw\n",
    " ORDER BY timestamp ASC;  "
   ]
  },
  {
   "cell_type": "code",
   "execution_count": 0,
   "metadata": {
    "application/vnd.databricks.v1+cell": {
     "cellMetadata": {},
     "inputWidgets": {},
     "nuid": "281789c9-ddc7-4748-b1b4-718f49a280a9",
     "showTitle": false,
     "tableResultSettingsMap": {},
     "title": ""
    }
   },
   "outputs": [],
   "source": [
    "%sql \n",
    "create or replace temp view cdc_dlt_expectations as (\n",
    "  SELECT \n",
    "    id,\n",
    "    timestamp,\n",
    "    details:flow_progress.metrics.num_output_rows as output_records,\n",
    "    details:flow_progress.data_quality.dropped_records,\n",
    "    details:flow_progress.status as status_update,\n",
    "    explode(from_json(details:flow_progress.data_quality.expectations\n",
    "             ,'array<struct<dataset: string, failed_records: bigint, name: string, passed_records: bigint>>')) expectations\n",
    "  FROM demo_cdc_dlt_system_event_log_raw \n",
    "  where details:flow_progress.data_quality.expectations is not null\n",
    "  ORDER BY timestamp);\n",
    "select * from cdc_dlt_expectations"
   ]
  },
  {
   "cell_type": "markdown",
   "metadata": {
    "application/vnd.databricks.v1+cell": {
     "cellMetadata": {},
     "inputWidgets": {},
     "nuid": "3fb16620-97d7-4284-93f9-4dfaa69c3038",
     "showTitle": false,
     "tableResultSettingsMap": {},
     "title": ""
    }
   },
   "source": [
    "## 3 - Visualizing the Quality Metrics\n",
    "\n",
    "Let's run a few queries to show the metrics we can display. Ideally, we should be using Databricks SQL to create SQL Dashboard and track all the data, but for this example we'll run a quick query in the dashboard directly:"
   ]
  },
  {
   "cell_type": "code",
   "execution_count": 0,
   "metadata": {
    "application/vnd.databricks.v1+cell": {
     "cellMetadata": {},
     "inputWidgets": {},
     "nuid": "0dc1d474-ca9a-400a-aa23-7f924ba2a67f",
     "showTitle": false,
     "tableResultSettingsMap": {},
     "title": ""
    }
   },
   "outputs": [],
   "source": [
    "%sql \n",
    "select sum(expectations.failed_records) as failed_records, sum(expectations.passed_records) as passed_records, expectations.name from cdc_dlt_expectations group by expectations.name"
   ]
  },
  {
   "cell_type": "markdown",
   "metadata": {
    "application/vnd.databricks.v1+cell": {
     "cellMetadata": {},
     "inputWidgets": {},
     "nuid": "d68cdd35-6b24-41b7-8811-a127621e94b2",
     "showTitle": false,
     "tableResultSettingsMap": {},
     "title": ""
    }
   },
   "source": [
    "### Plotting failed record per expectations"
   ]
  },
  {
   "cell_type": "code",
   "execution_count": 0,
   "metadata": {
    "application/vnd.databricks.v1+cell": {
     "cellMetadata": {},
     "inputWidgets": {},
     "nuid": "4ae7d3b2-1766-4ef7-be25-dbacc1a2d77f",
     "showTitle": false,
     "tableResultSettingsMap": {},
     "title": ""
    }
   },
   "outputs": [],
   "source": [
    "import plotly.express as px\n",
    "expectations_metrics = spark.sql(\"select sum(expectations.failed_records) as failed_records, sum(expectations.passed_records) as passed_records, expectations.name from cdc_dlt_expectations group by expectations.name\").toPandas()\n",
    "px.bar(expectations_metrics, x=\"name\", y=[\"passed_records\", \"failed_records\"], title=\"DLT expectations metrics\")"
   ]
  },
  {
   "cell_type": "markdown",
   "metadata": {
    "application/vnd.databricks.v1+cell": {
     "cellMetadata": {},
     "inputWidgets": {},
     "nuid": "1566fb85-fb6c-4f7c-a819-6d68eef2099b",
     "showTitle": false,
     "tableResultSettingsMap": {},
     "title": ""
    }
   },
   "source": [
    "### What's next?\n",
    "\n",
    "We now have our data ready to be used for more advanced.\n",
    "\n",
    "We can start creating our first <a dbdemos-dashboard-id=\"dlt-expectations\" href='/sql/dashboardsv3/01f03f2ed72d143286a56e4da9b8ceb1'  target=\"_blank\">DBSQL Dashboard</a> monitoring our data quality & DLT pipeline health."
   ]
  }
 ],
 "metadata": {
  "application/vnd.databricks.v1+notebook": {
   "computePreferences": null,
   "dashboards": [],
   "environmentMetadata": {
    "environment_version": "2"
   },
   "inputWidgetPreferences": null,
   "language": "python",
   "notebookMetadata": {
    "pythonIndentUnit": 2
   },
   "notebookName": "03-Retail_DLT_CDC_Monitoring",
   "widgets": {}
  },
  "language_info": {
   "name": "python"
  }
 },
 "nbformat": 4,
 "nbformat_minor": 0
}
