{
 "cells": [
  {
   "cell_type": "markdown",
   "metadata": {
    "application/vnd.databricks.v1+cell": {
     "cellMetadata": {},
     "inputWidgets": {},
     "nuid": "33e4b4dc-ecd7-4123-9d62-c3d2ca1c3dd4",
     "showTitle": false,
     "tableResultSettingsMap": {},
     "title": ""
    }
   },
   "source": [
    "[Tutorial: Build an ETL pipeline with Lakeflow Declarative Pipelines](https://docs.databricks.com/aws/en/getting-started/data-pipeline-get-started)"
   ]
  },
  {
   "cell_type": "markdown",
   "metadata": {
    "application/vnd.databricks.v1+cell": {
     "cellMetadata": {},
     "inputWidgets": {},
     "nuid": "86fc4986-946d-4dc7-a6dd-1ef2543edfdc",
     "showTitle": false,
     "tableResultSettingsMap": {},
     "title": ""
    }
   },
   "source": [
    "Here we have used Million Song Dataset as Source Data"
   ]
  },
  {
   "cell_type": "code",
   "execution_count": 0,
   "metadata": {
    "application/vnd.databricks.v1+cell": {
     "cellMetadata": {
      "byteLimit": 2048000,
      "rowLimit": 10000
     },
     "inputWidgets": {},
     "nuid": "22fb7d26-8c34-436a-9f96-41c45f4e683d",
     "showTitle": false,
     "tableResultSettingsMap": {},
     "title": ""
    }
   },
   "outputs": [],
   "source": [
    "!pip install dlt\n",
    "\n",
    "dbutils.library.restartPython()"
   ]
  },
  {
   "cell_type": "code",
   "execution_count": 0,
   "metadata": {
    "application/vnd.databricks.v1+cell": {
     "cellMetadata": {
      "byteLimit": 2048000,
      "rowLimit": 10000
     },
     "inputWidgets": {},
     "nuid": "988faa87-a156-4fca-82be-82d5262ce2c2",
     "showTitle": false,
     "tableResultSettingsMap": {},
     "title": ""
    }
   },
   "outputs": [],
   "source": [
    "dbutils.fs.ls(\"/databricks-datasets/songs/data-001/\")"
   ]
  },
  {
   "cell_type": "code",
   "execution_count": 0,
   "metadata": {
    "application/vnd.databricks.v1+cell": {
     "cellMetadata": {
      "byteLimit": 2048000,
      "rowLimit": 10000
     },
     "inputWidgets": {},
     "nuid": "31f6e97c-974a-4d76-b6dd-b5dcafeebaa8",
     "showTitle": false,
     "tableResultSettingsMap": {},
     "title": ""
    }
   },
   "outputs": [],
   "source": [
    "# Import modules\n",
    "import dlt\n",
    "from pyspark.sql.functions import *\n",
    "from pyspark.sql.types import DoubleType, IntegerType, StringType, StructType, StructField\n",
    "\n",
    "# Define the path to the source data\n",
    "file_path = f\"/databricks-datasets/songs/data-001/\"\n",
    "\n",
    "# Define a streaming table to ingest data from a volume\n",
    "schema = StructType(\n",
    "  [\n",
    "    StructField(\"artist_id\", StringType(), True),\n",
    "    StructField(\"artist_lat\", DoubleType(), True),\n",
    "    StructField(\"artist_long\", DoubleType(), True),\n",
    "    StructField(\"artist_location\", StringType(), True),\n",
    "    StructField(\"artist_name\", StringType(), True),\n",
    "    StructField(\"duration\", DoubleType(), True),\n",
    "    StructField(\"end_of_fade_in\", DoubleType(), True),\n",
    "    StructField(\"key\", IntegerType(), True),\n",
    "    StructField(\"key_confidence\", DoubleType(), True),\n",
    "    StructField(\"loudness\", DoubleType(), True),\n",
    "    StructField(\"release\", StringType(), True),\n",
    "    StructField(\"song_hotnes\", DoubleType(), True),\n",
    "    StructField(\"song_id\", StringType(), True),\n",
    "    StructField(\"start_of_fade_out\", DoubleType(), True),\n",
    "    StructField(\"tempo\", DoubleType(), True),\n",
    "    StructField(\"time_signature\", DoubleType(), True),\n",
    "    StructField(\"time_signature_confidence\", DoubleType(), True),\n",
    "    StructField(\"title\", StringType(), True),\n",
    "    StructField(\"year\", IntegerType(), True),\n",
    "    StructField(\"partial_sequence\", IntegerType(), True)\n",
    "  ]\n",
    ")\n",
    "\n",
    "@dlt.table(\n",
    "  comment=\"Raw data from a subset of the Million Song Dataset; a collection of features and metadata for contemporary music tracks.\"\n",
    ")\n",
    "def songs_raw():\n",
    "  return (spark.readStream\n",
    "    .format(\"cloudFiles\")\n",
    "    .schema(schema)\n",
    "    .option(\"cloudFiles.format\", \"csv\")\n",
    "    .option(\"sep\",\"\\t\")\n",
    "    .option(\"inferSchema\", True)\n",
    "    .load(file_path))\n",
    "\n",
    "# Define a materialized view that validates data and renames a column\n",
    "@dlt.table(\n",
    "  comment=\"Million Song Dataset with data cleaned and prepared for analysis.\"\n",
    ")\n",
    "@dlt.expect(\"valid_artist_name\", \"artist_name IS NOT NULL\")\n",
    "@dlt.expect(\"valid_title\", \"song_title IS NOT NULL\")\n",
    "@dlt.expect(\"valid_duration\", \"duration > 0\")\n",
    "def songs_prepared():\n",
    "  return (\n",
    "    spark.read.table(\"songs_raw\")\n",
    "      .withColumnRenamed(\"title\", \"song_title\")\n",
    "      .select(\"artist_id\", \"artist_name\", \"duration\", \"release\", \"tempo\", \"time_signature\", \"song_title\", \"year\")\n",
    "  )\n",
    "\n",
    "# Define a materialized view that has a filtered, aggregated, and sorted view of the data\n",
    "@dlt.table(\n",
    "  comment=\"A table summarizing counts of songs released by the artists who released the most songs each year.\"\n",
    ")\n",
    "def top_artists_by_year():\n",
    "  return (\n",
    "    spark.read.table(\"songs_prepared\")\n",
    "      .filter(expr(\"year > 0\"))\n",
    "      .groupBy(\"artist_name\", \"year\")\n",
    "      .count().withColumnRenamed(\"count\", \"total_number_of_songs\")\n",
    "      .sort(desc(\"total_number_of_songs\"), desc(\"year\"))\n",
    "  )"
   ]
  },
  {
   "cell_type": "code",
   "execution_count": 0,
   "metadata": {
    "application/vnd.databricks.v1+cell": {
     "cellMetadata": {},
     "inputWidgets": {},
     "nuid": "d4d3521e-ea4c-49ff-b924-9ea9fed48318",
     "showTitle": false,
     "tableResultSettingsMap": {},
     "title": ""
    }
   },
   "outputs": [],
   "source": []
  }
 ],
 "metadata": {
  "application/vnd.databricks.v1+notebook": {
   "computePreferences": null,
   "dashboards": [],
   "environmentMetadata": {
    "base_environment": "",
    "environment_version": "2"
   },
   "inputWidgetPreferences": null,
   "language": "python",
   "notebookMetadata": {
    "pythonIndentUnit": 2
   },
   "notebookName": "1. Build an ETL pipeline with Lakeflow Declarative Pipelines",
   "widgets": {}
  },
  "language_info": {
   "name": "python"
  }
 },
 "nbformat": 4,
 "nbformat_minor": 0
}
