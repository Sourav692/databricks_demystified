{
 "cells": [
  {
   "cell_type": "markdown",
   "metadata": {
    "application/vnd.databricks.v1+cell": {
     "cellMetadata": {
      "byteLimit": 2048000,
      "rowLimit": 10000
     },
     "inputWidgets": {},
     "nuid": "edb3bc22-1906-4de1-93d4-38a84509151b",
     "showTitle": false,
     "tableResultSettingsMap": {},
     "title": ""
    }
   },
   "source": [
    "### 1. Loading from Existing Tables"
   ]
  },
  {
   "cell_type": "markdown",
   "metadata": {
    "application/vnd.databricks.v1+cell": {
     "cellMetadata": {
      "byteLimit": 2048000,
      "rowLimit": 10000
     },
     "inputWidgets": {},
     "nuid": "9d5e342d-ab25-4841-923e-37b4200de47d",
     "showTitle": false,
     "tableResultSettingsMap": {},
     "title": ""
    }
   },
   "source": [
    "* Catalog_name = \"data_university\"\n",
    "* Schema_Name = \"lakeflow\""
   ]
  },
  {
   "cell_type": "code",
   "execution_count": 0,
   "metadata": {
    "application/vnd.databricks.v1+cell": {
     "cellMetadata": {
      "byteLimit": 2048000,
      "implicitDf": true,
      "rowLimit": 10000
     },
     "inputWidgets": {},
     "nuid": "690088a3-c19f-4bf1-b06b-b281c14931d0",
     "showTitle": false,
     "tableResultSettingsMap": {},
     "title": ""
    }
   },
   "outputs": [],
   "source": [
    "# %sql\n",
    "\n",
    "# -- Create and populate baby names table\n",
    "# CREATE TABLE IF NOT EXISTS data_university.dlt.baby_names_prepared (\n",
    "#     Year_Of_Birth INT,\n",
    "#     First_Name STRING,\n",
    "#     Count INT,\n",
    "#     Gender STRING,\n",
    "#     Ethnicity STRING\n",
    "# ) USING DELTA;\n",
    "\n",
    "# INSERT INTO data_university.dlt.baby_names_prepared VALUES\n",
    "# (2021, 'Emma', 1250, 'F', 'WHITE NON HISPANIC'),\n",
    "# (2021, 'Liam', 1180, 'M', 'WHITE NON HISPANIC'),\n",
    "# (2021, 'Olivia', 1150, 'F', 'HISPANIC'),\n",
    "# (2021, 'Noah', 1100, 'M', 'BLACK NON HISPANIC'),\n",
    "# (2021, 'Ava', 1050, 'F', 'ASIAN AND PACIFIC ISLANDER'),\n",
    "# (2020, 'Emma', 1300, 'F', 'WHITE NON HISPANIC'),\n",
    "# (2020, 'Liam', 1200, 'M', 'WHITE NON HISPANIC'),\n",
    "# (2019, 'Emma', 1180, 'F', 'WHITE NON HISPANIC');\n"
   ]
  },
  {
   "cell_type": "code",
   "execution_count": 0,
   "metadata": {
    "application/vnd.databricks.v1+cell": {
     "cellMetadata": {
      "byteLimit": 2048000,
      "rowLimit": 10000
     },
     "inputWidgets": {},
     "nuid": "d2dc2a17-c37c-4695-add3-cb9d64e480b4",
     "showTitle": false,
     "tableResultSettingsMap": {},
     "title": ""
    }
   },
   "outputs": [],
   "source": [
    "# import dlt\n",
    "# from pyspark.sql.functions import *\n",
    "\n",
    "# @dlt.table(\n",
    "#     comment=\"Top baby names for 2021 with count aggregation\"\n",
    "# )\n",
    "# def top_baby_names_2021():\n",
    "#     return (\n",
    "#         spark.read.table(\"data_university.dlt.baby_names_prepared\")\n",
    "#             .filter(expr(\"Year_Of_Birth == 2021\"))\n",
    "#             .groupBy(\"First_Name\")\n",
    "#             .agg(sum(\"Count\").alias(\"Total_Count\"))\n",
    "#             .sort(desc(\"Total_Count\"))\n",
    "#     )\n"
   ]
  },
  {
   "cell_type": "code",
   "execution_count": 0,
   "metadata": {
    "application/vnd.databricks.v1+cell": {
     "cellMetadata": {
      "byteLimit": 2048000,
      "rowLimit": 10000
     },
     "inputWidgets": {},
     "nuid": "4f4405e6-48b0-461d-b2e6-84cb9adec89e",
     "showTitle": false,
     "tableResultSettingsMap": {},
     "title": ""
    }
   },
   "outputs": [],
   "source": [
    "# import dlt\n",
    "# from pyspark.sql.functions import *\n",
    "\n",
    "# @dlt.table(\n",
    "#     name=\"data_university.dlt.top_baby_names_2025\",\n",
    "#     comment=\"Top baby names for 2021 with count aggregation\"\n",
    "# )\n",
    "# def top_baby_names_2021():\n",
    "#     return (\n",
    "#         spark.read.table(\"data_university.dlt.baby_names_prepared\")\n",
    "#             .filter(expr(\"Year_Of_Birth == 2021\"))\n",
    "#             .groupBy(\"First_Name\")\n",
    "#             .agg(sum(\"Count\").alias(\"Total_Count\"))\n",
    "#             .sort(desc(\"Total_Count\"))\n",
    "#     )"
   ]
  },
  {
   "cell_type": "markdown",
   "metadata": {
    "application/vnd.databricks.v1+cell": {
     "cellMetadata": {
      "byteLimit": 2048000,
      "rowLimit": 10000
     },
     "inputWidgets": {},
     "nuid": "55e945d5-053c-4987-a449-663f8c2e94c4",
     "showTitle": false,
     "tableResultSettingsMap": {},
     "title": ""
    }
   },
   "source": [
    "### 2. Loading from Cloud Object Storage with Auto Loader"
   ]
  },
  {
   "cell_type": "markdown",
   "metadata": {
    "application/vnd.databricks.v1+cell": {
     "cellMetadata": {},
     "inputWidgets": {},
     "nuid": "dbe58943-1ecd-4f0c-ab12-c22ab160107e",
     "showTitle": false,
     "tableResultSettingsMap": {},
     "title": ""
    }
   },
   "source": [
    "#### JSON Files from S3"
   ]
  },
  {
   "cell_type": "code",
   "execution_count": 0,
   "metadata": {
    "application/vnd.databricks.v1+cell": {
     "cellMetadata": {
      "byteLimit": 2048000,
      "rowLimit": 10000
     },
     "inputWidgets": {},
     "nuid": "55d0f946-1e26-4cf8-8454-61f63c46ba20",
     "showTitle": false,
     "tableResultSettingsMap": {},
     "title": ""
    }
   },
   "outputs": [],
   "source": [
    "# s3://mybucket/customers/\n",
    "# ├── 2024/\n",
    "# │   ├── 01/\n",
    "# │   │   ├── 01/\n",
    "# │   │   │   ├── customers_001.json\n",
    "# │   │   │   └── customers_002.json\n",
    "# │   │   └── 02/\n",
    "# │   │       ├── customers_003.json\n",
    "# │   │       └── customers_004.json"
   ]
  },
  {
   "cell_type": "code",
   "execution_count": 0,
   "metadata": {
    "application/vnd.databricks.v1+cell": {
     "cellMetadata": {
      "byteLimit": 2048000,
      "rowLimit": 10000
     },
     "inputWidgets": {},
     "nuid": "7ecbac8b-0677-4d7b-abd7-9fc55b3d38b4",
     "showTitle": false,
     "tableResultSettingsMap": {},
     "title": ""
    }
   },
   "outputs": [],
   "source": [
    "import dlt\n",
    "from pyspark.sql.functions import *\n",
    "from pyspark.sql.types import StructType, StructField, StringType, BooleanType, TimestampType\n",
    "\n",
    "customer_schema = StructType([\n",
    "    StructField(\"customer_id\", StringType(), True),\n",
    "    StructField(\"name\", StringType(), True),\n",
    "    StructField(\"email\", StringType(), True),\n",
    "    StructField(\"phone\", StringType(), True),\n",
    "    StructField(\"address\", StructType([\n",
    "        StructField(\"street\", StringType(), True),\n",
    "        StructField(\"city\", StringType(), True),\n",
    "        StructField(\"state\", StringType(), True),\n",
    "        StructField(\"zip\", StringType(), True)\n",
    "    ]), True),\n",
    "    StructField(\"registration_date\", StringType(), True),  # Can be TimestampType() if parsed\n",
    "    StructField(\"status\", StringType(), True),\n",
    "    StructField(\"preferences\", StructType([\n",
    "        StructField(\"newsletter\", BooleanType(), True),\n",
    "        StructField(\"sms_notifications\", BooleanType(), True)\n",
    "    ]), True)\n",
    "])\n",
    "\n",
    "\n",
    "@dlt.table(\n",
    "    comment=\"Raw customer data from S3 using Auto Loader\"\n",
    ")\n",
    "def customers_raw():\n",
    "    return (\n",
    "        spark.readStream.format(\"cloudFiles\")\n",
    "            .option(\"cloudFiles.format\", \"json\")\n",
    "            .schema(customer_schema)\n",
    "            # .option(\"cloudFiles.inferSchema\", \"true\")\n",
    "            .option(\"cloudFiles.schemaLocation\", \"/tmp/schema/customers\")\n",
    "            .load(\"s3://one-env-uc-external-location/demo_sourav/customer/2024/01/01/*.json\")\n",
    "    )"
   ]
  },
  {
   "cell_type": "markdown",
   "metadata": {
    "application/vnd.databricks.v1+cell": {
     "cellMetadata": {},
     "inputWidgets": {},
     "nuid": "41959e19-175c-4ea9-a4d6-e79e75f7e83e",
     "showTitle": false,
     "tableResultSettingsMap": {},
     "title": ""
    }
   },
   "source": [
    "#### JSON Files from Volume"
   ]
  },
  {
   "cell_type": "code",
   "execution_count": 0,
   "metadata": {
    "application/vnd.databricks.v1+cell": {
     "cellMetadata": {
      "byteLimit": 2048000,
      "rowLimit": 10000
     },
     "inputWidgets": {},
     "nuid": "ebf80de1-4657-44cc-bef0-a98c7226ba5d",
     "showTitle": false,
     "tableResultSettingsMap": {},
     "title": ""
    }
   },
   "outputs": [],
   "source": [
    "import dlt\n",
    "from pyspark.sql.functions import *\n",
    "from pyspark.sql.types import StructType, StructField, StringType, BooleanType, TimestampType\n",
    "\n",
    "customer_schema = StructType([\n",
    "    StructField(\"customer_id\", StringType(), True),\n",
    "    StructField(\"name\", StringType(), True),\n",
    "    StructField(\"email\", StringType(), True),\n",
    "    StructField(\"phone\", StringType(), True),\n",
    "    StructField(\"address\", StructType([\n",
    "        StructField(\"street\", StringType(), True),\n",
    "        StructField(\"city\", StringType(), True),\n",
    "        StructField(\"state\", StringType(), True),\n",
    "        StructField(\"zip\", StringType(), True)\n",
    "    ]), True),\n",
    "    StructField(\"registration_date\", StringType(), True),  # Can be TimestampType() if parsed\n",
    "    StructField(\"status\", StringType(), True),\n",
    "    StructField(\"preferences\", StructType([\n",
    "        StructField(\"newsletter\", BooleanType(), True),\n",
    "        StructField(\"sms_notifications\", BooleanType(), True)\n",
    "    ]), True)\n",
    "])\n",
    "\n",
    "\n",
    "@dlt.table(\n",
    "    comment=\"Raw customer data from S3 using Auto Loader\"\n",
    ")\n",
    "def customers_raw_volume():\n",
    "    return (\n",
    "        spark.readStream.format(\"cloudFiles\")\n",
    "            .option(\"cloudFiles.format\", \"json\")\n",
    "            .schema(customer_schema)\n",
    "            # .option(\"cloudFiles.inferSchema\", \"true\")\n",
    "            .option(\"cloudFiles.schemaLocation\", \"/tmp/schema/customers\")\n",
    "            .load(\"/Volumes/data_university/lakeflow/demo_volume/customer/2024/01/01/*.json\")\n",
    "    )\n",
    "    "
   ]
  },
  {
   "cell_type": "markdown",
   "metadata": {
    "application/vnd.databricks.v1+cell": {
     "cellMetadata": {},
     "inputWidgets": {},
     "nuid": "36fc67fa-3951-4cb8-8e58-e08233afba1e",
     "showTitle": false,
     "tableResultSettingsMap": {},
     "title": ""
    }
   },
   "source": [
    "#### CSV Files from Unity Catalog Volume"
   ]
  },
  {
   "cell_type": "code",
   "execution_count": 0,
   "metadata": {
    "application/vnd.databricks.v1+cell": {
     "cellMetadata": {},
     "inputWidgets": {},
     "nuid": "3dd67ee1-3d45-415f-8dd5-649ed360ef54",
     "showTitle": false,
     "tableResultSettingsMap": {},
     "title": ""
    }
   },
   "outputs": [],
   "source": [
    "# @dlt.table(\n",
    "#     comment=\"Customer data from Unity Catalog volume\"\n",
    "# )\n",
    "# def customers_csv():\n",
    "#     return (\n",
    "#         spark.readStream.format(\"cloudFiles\")\n",
    "#             .option(\"cloudFiles.format\", \"csv\")\n",
    "#             .option(\"header\", \"true\")\n",
    "#             .option(\"cloudFiles.inferColumnTypes\", \"true\")\n",
    "#             .load(\"/Volumes/data_university/lakeflow/customer\")\n",
    "#     )"
   ]
  },
  {
   "cell_type": "markdown",
   "metadata": {
    "application/vnd.databricks.v1+cell": {
     "cellMetadata": {},
     "inputWidgets": {},
     "nuid": "00298ea1-8923-4bd0-b269-bb92fef79ec3",
     "showTitle": false,
     "tableResultSettingsMap": {},
     "title": ""
    }
   },
   "source": [
    "### 3. Loading from Message Buses"
   ]
  },
  {
   "cell_type": "markdown",
   "metadata": {
    "application/vnd.databricks.v1+cell": {
     "cellMetadata": {},
     "inputWidgets": {},
     "nuid": "65e64677-5341-4e8d-8658-206be315113a",
     "showTitle": false,
     "tableResultSettingsMap": {},
     "title": ""
    }
   },
   "source": [
    "####  Apache Kafka\n",
    "Sample Kafka Topic: user_events\n",
    "\n",
    "Configure your Kafka topic with these sample messages:"
   ]
  },
  {
   "cell_type": "code",
   "execution_count": 0,
   "metadata": {
    "application/vnd.databricks.v1+cell": {
     "cellMetadata": {
      "byteLimit": 2048000,
      "rowLimit": 10000
     },
     "inputWidgets": {},
     "nuid": "d0ad130a-e373-4a76-96b9-7ed8130ed12f",
     "showTitle": false,
     "tableResultSettingsMap": {},
     "title": ""
    }
   },
   "outputs": [],
   "source": [
    "# // Message 1 - Page View Event\n",
    "# {\n",
    "#   \"key\": \"user_123\",\n",
    "#   \"value\": {\n",
    "#     \"event_id\": \"evt_001\",\n",
    "#     \"user_id\": \"user_123\",\n",
    "#     \"event_type\": \"page_view\",\n",
    "#     \"page_url\": \"/products/laptop\",\n",
    "#     \"timestamp\": \"2024-01-01T10:30:00Z\",\n",
    "#     \"session_id\": \"sess_abc123\",\n",
    "#     \"user_agent\": \"Mozilla/5.0 (Windows NT 10.0; Win64; x64) AppleWebKit/537.36\",\n",
    "#     \"ip_address\": \"192.168.1.100\"\n",
    "#   }\n",
    "# }\n",
    "\n",
    "# // Message 2 - Purchase Event\n",
    "# {\n",
    "#   \"key\": \"user_456\",\n",
    "#   \"value\": {\n",
    "#     \"event_id\": \"evt_002\",\n",
    "#     \"user_id\": \"user_456\",\n",
    "#     \"event_type\": \"purchase\",\n",
    "#     \"product_id\": \"prod_laptop_001\",\n",
    "#     \"amount\": 1299.99,\n",
    "#     \"timestamp\": \"2024-01-01T10:35:00Z\",\n",
    "#     \"session_id\": \"sess_def456\",\n",
    "#     \"payment_method\": \"credit_card\"\n",
    "#   }\n",
    "# }\n",
    "\n",
    "# // Message 3 - Cart Add Event\n",
    "# {\n",
    "#   \"key\": \"user_789\",\n",
    "#   \"value\": {\n",
    "#     \"event_id\": \"evt_003\",\n",
    "#     \"user_id\": \"user_789\",\n",
    "#     \"event_type\": \"cart_add\",\n",
    "#     \"product_id\": \"prod_mouse_001\",\n",
    "#     \"quantity\": 2,\n",
    "#     \"timestamp\": \"2024-01-01T10:40:00Z\",\n",
    "#     \"session_id\": \"sess_ghi789\"\n",
    "#   }\n",
    "# }\n"
   ]
  },
  {
   "cell_type": "markdown",
   "metadata": {
    "application/vnd.databricks.v1+cell": {
     "cellMetadata": {},
     "inputWidgets": {},
     "nuid": "2d4ba549-58ac-42a3-95b1-1dcb769a72e5",
     "showTitle": false,
     "tableResultSettingsMap": {},
     "title": ""
    }
   },
   "source": [
    "#### DLT Code"
   ]
  },
  {
   "cell_type": "code",
   "execution_count": 0,
   "metadata": {
    "application/vnd.databricks.v1+cell": {
     "cellMetadata": {},
     "inputWidgets": {},
     "nuid": "4af50add-3221-4415-9c11-1a3a72cddb1b",
     "showTitle": false,
     "tableResultSettingsMap": {},
     "title": ""
    }
   },
   "outputs": [],
   "source": [
    "# import dlt\n",
    "# from pyspark.sql.functions import *\n",
    "\n",
    "# @dlt.table(\n",
    "#     comment=\"Raw events from Kafka topic\"\n",
    "# )\n",
    "# def kafka_events():\n",
    "#     return (\n",
    "#         spark.readStream\n",
    "#             .format(\"kafka\")\n",
    "#             .option(\"kafka.bootstrap.servers\", \"kafka_server:9092\")\n",
    "#             .option(\"subscribe\", \"user_events\")\n",
    "#             .option(\"kafka.security.protocol\", \"SASL_SSL\")\n",
    "#             .option(\"kafka.sasl.mechanism\", \"PLAIN\")\n",
    "#             .load()\n",
    "#             .select(\n",
    "#                 col(\"key\").cast(\"string\"),\n",
    "#                 col(\"value\").cast(\"string\"),\n",
    "#                 col(\"topic\"),\n",
    "#                 col(\"partition\"),\n",
    "#                 col(\"offset\"),\n",
    "#                 col(\"timestamp\")\n",
    "#             )\n",
    "#     )\n",
    "\n",
    "# # Parse the JSON value from Kafka messages\n",
    "# @dlt.table(\n",
    "#     comment=\"Parsed user events from Kafka\"\n",
    "# )\n",
    "# def parsed_user_events():\n",
    "#     return (\n",
    "#         dlt.read_stream(\"kafka_events\")\n",
    "#             .select(\n",
    "#                 col(\"key\").alias(\"user_key\"),\n",
    "#                 from_json(col(\"value\"), schema=\"event_id STRING, user_id STRING, event_type STRING, page_url STRING, product_id STRING, amount DOUBLE, quantity INT, timestamp TIMESTAMP, session_id STRING\").alias(\"event_data\")\n",
    "#             )\n",
    "#             .select(\"user_key\", \"event_data.*\")\n",
    "#     )\n"
   ]
  },
  {
   "cell_type": "markdown",
   "metadata": {
    "application/vnd.databricks.v1+cell": {
     "cellMetadata": {},
     "inputWidgets": {},
     "nuid": "b9e9987a-1398-4a4c-8bb4-40399e6a9fa0",
     "showTitle": false,
     "tableResultSettingsMap": {},
     "title": ""
    }
   },
   "source": [
    "#### Amazon Kinesis\n",
    "Sample Kinesis Stream Data:\n",
    "\n",
    "Set up your Kinesis stream with these sample records:"
   ]
  },
  {
   "cell_type": "code",
   "execution_count": 0,
   "metadata": {
    "application/vnd.databricks.v1+cell": {
     "cellMetadata": {
      "byteLimit": 2048000,
      "rowLimit": 10000
     },
     "inputWidgets": {},
     "nuid": "3834eca3-8d27-4679-b3d7-5748abe9c6b8",
     "showTitle": false,
     "tableResultSettingsMap": {},
     "title": ""
    }
   },
   "outputs": [],
   "source": [
    "# // Record 1\n",
    "# {\n",
    "#   \"recordId\": \"rec_001\",\n",
    "#   \"data\": {\n",
    "#     \"sensor_id\": \"temp_sensor_01\",\n",
    "#     \"location\": \"warehouse_a\",\n",
    "#     \"temperature\": 22.5,\n",
    "#     \"humidity\": 45.2,\n",
    "#     \"timestamp\": \"2024-01-01T10:30:00Z\",\n",
    "#     \"alert_threshold_exceeded\": false\n",
    "#   }\n",
    "# }\n",
    "\n",
    "# // Record 2\n",
    "# {\n",
    "#   \"recordId\": \"rec_002\",\n",
    "#   \"data\": {\n",
    "#     \"sensor_id\": \"temp_sensor_02\",\n",
    "#     \"location\": \"warehouse_b\",\n",
    "#     \"temperature\": 28.1,\n",
    "#     \"humidity\": 52.8,\n",
    "#     \"timestamp\": \"2024-01-01T10:30:30Z\",\n",
    "#     \"alert_threshold_exceeded\": true\n",
    "#   }\n",
    "# }\n",
    "\n",
    "# // Record 3\n",
    "# {\n",
    "#   \"recordId\": \"rec_003\",\n",
    "#   \"data\": {\n",
    "#     \"sensor_id\": \"temp_sensor_03\",\n",
    "#     \"location\": \"warehouse_c\",\n",
    "#     \"temperature\": 20.8,\n",
    "#     \"humidity\": 40.1,\n",
    "#     \"timestamp\": \"2024-01-01T10:31:00Z\",\n",
    "#     \"alert_threshold_exceeded\": false\n",
    "#   }\n",
    "# }\n"
   ]
  },
  {
   "cell_type": "markdown",
   "metadata": {
    "application/vnd.databricks.v1+cell": {
     "cellMetadata": {},
     "inputWidgets": {},
     "nuid": "b4678a9d-054b-4dcf-9152-9f524fe6dc53",
     "showTitle": false,
     "tableResultSettingsMap": {},
     "title": ""
    }
   },
   "source": [
    "DLT Code"
   ]
  },
  {
   "cell_type": "code",
   "execution_count": 0,
   "metadata": {
    "application/vnd.databricks.v1+cell": {
     "cellMetadata": {
      "byteLimit": 2048000,
      "rowLimit": 10000
     },
     "inputWidgets": {},
     "nuid": "79550f42-f632-487d-a5af-b9028046262c",
     "showTitle": false,
     "tableResultSettingsMap": {},
     "title": ""
    }
   },
   "outputs": [],
   "source": [
    "# @dlt.table(\n",
    "#     comment=\"Streaming IoT sensor data from Kinesis\"\n",
    "# )\n",
    "# def kinesis_iot_data():\n",
    "#     return (\n",
    "#         spark.readStream\n",
    "#             .format(\"kinesis\")\n",
    "#             .option(\"streamName\", \"iot-sensor-stream\")\n",
    "#             .option(\"region\", \"us-west-2\")\n",
    "#             .option(\"initialPosition\", \"TRIM_HORIZON\")\n",
    "#             .load()\n",
    "#     )"
   ]
  },
  {
   "cell_type": "markdown",
   "metadata": {
    "application/vnd.databricks.v1+cell": {
     "cellMetadata": {},
     "inputWidgets": {},
     "nuid": "ef27197d-23ff-45ce-b7f0-89275f9fa37b",
     "showTitle": false,
     "tableResultSettingsMap": {},
     "title": ""
    }
   },
   "source": [
    "#### Azure Event Hubs\n",
    "Sample Event Hub Messages:\n",
    "\n",
    "Configure your Event Hub with these sample messages:"
   ]
  },
  {
   "cell_type": "code",
   "execution_count": 0,
   "metadata": {
    "application/vnd.databricks.v1+cell": {
     "cellMetadata": {
      "byteLimit": 2048000,
      "rowLimit": 10000
     },
     "inputWidgets": {},
     "nuid": "910a34ad-1a87-4e4c-8946-904675ee9644",
     "showTitle": false,
     "tableResultSettingsMap": {},
     "title": ""
    }
   },
   "outputs": [],
   "source": [
    "# // Message 1\n",
    "# {\n",
    "#   \"messageId\": \"msg_001\",\n",
    "#   \"body\": {\n",
    "#     \"device_id\": \"device_001\",\n",
    "#     \"device_type\": \"temperature_sensor\",\n",
    "#     \"reading\": 23.7,\n",
    "#     \"unit\": \"celsius\",\n",
    "#     \"location\": {\n",
    "#       \"building\": \"A\",\n",
    "#       \"floor\": 2,\n",
    "#       \"room\": \"201\"\n",
    "#     },\n",
    "#     \"timestamp\": \"2024-01-01T10:30:00Z\"\n",
    "#   },\n",
    "#   \"properties\": {\n",
    "#     \"priority\": \"normal\",\n",
    "#     \"source\": \"iot_gateway_01\"\n",
    "#   }\n",
    "# }\n",
    "\n",
    "# // Message 2\n",
    "# {\n",
    "#   \"messageId\": \"msg_002\",\n",
    "#   \"body\": {\n",
    "#     \"device_id\": \"device_002\",\n",
    "#     \"device_type\": \"humidity_sensor\",\n",
    "#     \"reading\": 65.3,\n",
    "#     \"unit\": \"percentage\",\n",
    "#     \"location\": {\n",
    "#       \"building\": \"B\",\n",
    "#       \"floor\": 1,\n",
    "#       \"room\": \"101\"\n",
    "#     },\n",
    "#     \"timestamp\": \"2024-01-01T10:30:15Z\"\n",
    "#   },\n",
    "#   \"properties\": {\n",
    "#     \"priority\": \"high\",\n",
    "#     \"source\": \"iot_gateway_02\"\n",
    "#   }\n",
    "# }\n"
   ]
  },
  {
   "cell_type": "markdown",
   "metadata": {
    "application/vnd.databricks.v1+cell": {
     "cellMetadata": {},
     "inputWidgets": {},
     "nuid": "92bb3c7d-cd90-4c05-8527-d795f2c16593",
     "showTitle": false,
     "tableResultSettingsMap": {},
     "title": ""
    }
   },
   "source": [
    "Pipeline Code:"
   ]
  },
  {
   "cell_type": "code",
   "execution_count": 0,
   "metadata": {
    "application/vnd.databricks.v1+cell": {
     "cellMetadata": {
      "byteLimit": 2048000,
      "rowLimit": 10000
     },
     "inputWidgets": {},
     "nuid": "7e4517c5-5f72-43ca-9526-ce7c737092cc",
     "showTitle": false,
     "tableResultSettingsMap": {},
     "title": ""
    }
   },
   "outputs": [],
   "source": [
    "# @dlt.table(\n",
    "#     comment=\"Events from Azure Event Hubs\"\n",
    "# )\n",
    "# def eventhub_data():\n",
    "#     connection_string = \"Endpoint=sb://namespace.servicebus.windows.net/;SharedAccessKeyName=policy;SharedAccessKey=key\"\n",
    "#     eventhub_name = \"iot-events\"\n",
    "    \n",
    "#     return (\n",
    "#         spark.readStream\n",
    "#             .format(\"eventhubs\")\n",
    "#             .option(\"eventhubs.connectionString\", connection_string)\n",
    "#             .option(\"eventhubs.eventHubName\", eventhub_name)\n",
    "#             .load()\n",
    "#     )"
   ]
  },
  {
   "cell_type": "markdown",
   "metadata": {
    "application/vnd.databricks.v1+cell": {
     "cellMetadata": {},
     "inputWidgets": {},
     "nuid": "3e0683ed-cd31-444b-9613-397908fd9201",
     "showTitle": false,
     "tableResultSettingsMap": {},
     "title": ""
    }
   },
   "source": [
    "### 4. Loading from External Systems"
   ]
  },
  {
   "cell_type": "markdown",
   "metadata": {
    "application/vnd.databricks.v1+cell": {
     "cellMetadata": {},
     "inputWidgets": {},
     "nuid": "f1ff480f-bf94-43f3-9788-c69a762cfe11",
     "showTitle": false,
     "tableResultSettingsMap": {},
     "title": ""
    }
   },
   "source": [
    "#### PostgreSQL Database\n",
    "Sample PostgreSQL Schema and Data:"
   ]
  },
  {
   "cell_type": "code",
   "execution_count": 0,
   "metadata": {
    "application/vnd.databricks.v1+cell": {
     "cellMetadata": {
      "byteLimit": 2048000,
      "rowLimit": 10000
     },
     "inputWidgets": {},
     "nuid": "e9bd9e03-5c0e-42af-958c-9dfb2e91b52e",
     "showTitle": false,
     "tableResultSettingsMap": {},
     "title": ""
    }
   },
   "outputs": [],
   "source": [
    "# -- Create PostgreSQL customers table\n",
    "# CREATE TABLE customers (\n",
    "#     customer_id VARCHAR(50) PRIMARY KEY,\n",
    "#     name VARCHAR(100) NOT NULL,\n",
    "#     email VARCHAR(100) UNIQUE,\n",
    "#     phone VARCHAR(20),\n",
    "#     address_line1 VARCHAR(200),\n",
    "#     address_line2 VARCHAR(200),\n",
    "#     city VARCHAR(50),\n",
    "#     state VARCHAR(20),\n",
    "#     postal_code VARCHAR(10),\n",
    "#     country VARCHAR(50),\n",
    "#     created_at TIMESTAMP DEFAULT CURRENT_TIMESTAMP,\n",
    "#     updated_at TIMESTAMP DEFAULT CURRENT_TIMESTAMP,\n",
    "#     is_active BOOLEAN DEFAULT TRUE\n",
    "# );\n",
    "\n",
    "# -- Insert sample data\n",
    "# INSERT INTO customers VALUES\n",
    "# ('CUST001', 'John Smith', 'john.smith@email.com', '+1-555-0123', \n",
    "#  '123 Main St', 'Apt 4B', 'New York', 'NY', '10001', 'USA', \n",
    "#  '2024-01-01 10:30:00', '2024-01-01 10:30:00', TRUE),\n",
    "# ('CUST002', 'Sarah Johnson', 'sarah.j@email.com', '+1-555-0124', \n",
    "#  '456 Oak Ave', NULL, 'Los Angeles', 'CA', '90210', 'USA', \n",
    "#  '2024-01-01 11:15:00', '2024-01-01 11:15:00', TRUE),\n",
    "# ('CUST003', 'Mike Davis', 'mike.davis@email.com', '+1-555-0125', \n",
    "#  '789 Pine St', 'Suite 200', 'Chicago', 'IL', '60601', 'USA', \n",
    "#  '2024-01-01 12:00:00', '2024-01-01 12:00:00', FALSE);\n"
   ]
  },
  {
   "cell_type": "markdown",
   "metadata": {
    "application/vnd.databricks.v1+cell": {
     "cellMetadata": {},
     "inputWidgets": {},
     "nuid": "45d9fc3b-8533-41b8-9848-4a93ffe1c37c",
     "showTitle": false,
     "tableResultSettingsMap": {},
     "title": ""
    }
   },
   "source": [
    "Pipeline Code:"
   ]
  },
  {
   "cell_type": "code",
   "execution_count": 0,
   "metadata": {
    "application/vnd.databricks.v1+cell": {
     "cellMetadata": {
      "byteLimit": 2048000,
      "rowLimit": 10000
     },
     "inputWidgets": {},
     "nuid": "72ebc5f4-60ac-4cda-87aa-4fc22220ed31",
     "showTitle": false,
     "tableResultSettingsMap": {},
     "title": ""
    }
   },
   "outputs": [],
   "source": [
    "# @dlt.table(\n",
    "#     comment=\"Customer data from PostgreSQL\"\n",
    "# )\n",
    "# def postgres_customers():\n",
    "#     return (\n",
    "#         spark.read\n",
    "#             .format(\"postgresql\")\n",
    "#             .option(\"dbtable\", \"customers\")\n",
    "#             .option(\"host\", \"postgres-server.example.com\")\n",
    "#             .option(\"port\", 5432)\n",
    "#             .option(\"database\", \"retail_db\")\n",
    "#             .option(\"user\", dbutils.secrets.get(\"db_scope\", \"username\"))\n",
    "#             .option(\"password\", dbutils.secrets.get(\"db_scope\", \"password\"))\n",
    "#             .load()\n",
    "#     )\n"
   ]
  },
  {
   "cell_type": "markdown",
   "metadata": {
    "application/vnd.databricks.v1+cell": {
     "cellMetadata": {},
     "inputWidgets": {},
     "nuid": "da082d01-3d52-4fd5-8d32-f88a91d328da",
     "showTitle": false,
     "tableResultSettingsMap": {},
     "title": ""
    }
   },
   "source": [
    "#### REST API with Custom Source\n",
    "Sample API Response from https://api.example.com/orders:"
   ]
  },
  {
   "cell_type": "code",
   "execution_count": 0,
   "metadata": {
    "application/vnd.databricks.v1+cell": {
     "cellMetadata": {
      "byteLimit": 2048000,
      "rowLimit": 10000
     },
     "inputWidgets": {},
     "nuid": "ac2c8db9-c71c-4f4d-ba78-35dd1815f889",
     "showTitle": false,
     "tableResultSettingsMap": {},
     "title": ""
    }
   },
   "outputs": [],
   "source": [
    "# {\n",
    "#   \"status\": \"success\",\n",
    "#   \"data\": [\n",
    "#     {\n",
    "#       \"id\": \"order_001\",\n",
    "#       \"customer_id\": \"CUST001\",\n",
    "#       \"order_date\": \"2024-01-01T10:30:00Z\",\n",
    "#       \"status\": \"completed\",\n",
    "#       \"items\": [\n",
    "#         {\n",
    "#           \"product_id\": \"PROD001\",\n",
    "#           \"name\": \"Laptop\",\n",
    "#           \"quantity\": 1,\n",
    "#           \"price\": 1299.99\n",
    "#         }\n",
    "#       ],\n",
    "#       \"total_amount\": 1299.99,\n",
    "#       \"shipping_address\": {\n",
    "#         \"street\": \"123 Main St\",\n",
    "#         \"city\": \"New York\",\n",
    "#         \"state\": \"NY\",\n",
    "#         \"zip\": \"10001\"\n",
    "#       }\n",
    "#     },\n",
    "#     {\n",
    "#       \"id\": \"order_002\",\n",
    "#       \"customer_id\": \"CUST002\",\n",
    "#       \"order_date\": \"2024-01-01T11:15:00Z\",\n",
    "#       \"status\": \"pending\",\n",
    "#       \"items\": [\n",
    "#         {\n",
    "#           \"product_id\": \"PROD002\",\n",
    "#           \"name\": \"Mouse\",\n",
    "#           \"quantity\": 2,\n",
    "#           \"price\": 29.99\n",
    "#         }\n",
    "#       ],\n",
    "#       \"total_amount\": 59.98,\n",
    "#       \"shipping_address\": {\n",
    "#         \"street\": \"456 Oak Ave\",\n",
    "#         \"city\": \"Los Angeles\",\n",
    "#         \"state\": \"CA\",\n",
    "#         \"zip\": \"90210\"\n",
    "#       }\n",
    "#     }\n",
    "#   ],\n",
    "#   \"pagination\": {\n",
    "#     \"page\": 1,\n",
    "#     \"per_page\": 100,\n",
    "#     \"total\": 2\n",
    "#   }\n",
    "# }\n"
   ]
  },
  {
   "cell_type": "markdown",
   "metadata": {
    "application/vnd.databricks.v1+cell": {
     "cellMetadata": {},
     "inputWidgets": {},
     "nuid": "9ea7a034-3c7c-4173-af48-d8912bf965b6",
     "showTitle": false,
     "tableResultSettingsMap": {},
     "title": ""
    }
   },
   "source": [
    "Pipeline Code:"
   ]
  },
  {
   "cell_type": "code",
   "execution_count": 0,
   "metadata": {
    "application/vnd.databricks.v1+cell": {
     "cellMetadata": {
      "byteLimit": 2048000,
      "rowLimit": 10000
     },
     "inputWidgets": {},
     "nuid": "85331885-cf49-423e-b801-643bc166bd07",
     "showTitle": false,
     "tableResultSettingsMap": {},
     "title": ""
    }
   },
   "outputs": [],
   "source": [
    "# import requests\n",
    "# import json\n",
    "\n",
    "# @dlt.table(\n",
    "#     comment=\"Order data loaded from REST API\"\n",
    "# )\n",
    "# def api_orders():\n",
    "#     # Custom function to fetch data from API\n",
    "#     def fetch_api_data():\n",
    "#         headers = {\"Authorization\": f\"Bearer {dbutils.secrets.get('api_scope', 'token')}\"}\n",
    "#         response = requests.get(\"https://api.example.com/orders\", headers=headers)\n",
    "#         return response.json()[\"data\"]\n",
    "    \n",
    "#     # Convert to DataFrame\n",
    "#     data = fetch_api_data()\n",
    "#     return spark.createDataFrame(data)\n"
   ]
  },
  {
   "cell_type": "markdown",
   "metadata": {
    "application/vnd.databricks.v1+cell": {
     "cellMetadata": {},
     "inputWidgets": {},
     "nuid": "4bdc406b-bb7e-43de-8e6e-3d9191fc4ebd",
     "showTitle": false,
     "tableResultSettingsMap": {},
     "title": ""
    }
   },
   "source": [
    "### 5. Loading Static/Small Datasets\n",
    "Reference Data Sources\n",
    "Setup Static Files:"
   ]
  },
  {
   "cell_type": "code",
   "execution_count": 0,
   "metadata": {
    "application/vnd.databricks.v1+cell": {
     "cellMetadata": {
      "byteLimit": 2048000,
      "rowLimit": 10000
     },
     "inputWidgets": {},
     "nuid": "aeaef557-6d2c-46a1-8c9b-fdb9b428d742",
     "showTitle": false,
     "tableResultSettingsMap": {},
     "title": ""
    }
   },
   "outputs": [],
   "source": [
    "# # Upload JSON reference data to DBFS\n",
    "# dbutils.fs.put(\"/FileStore/reference/product_categories.json\", \n",
    "# '''\n",
    "# {\n",
    "#   \"categories\": [\n",
    "#     {\n",
    "#       \"category_id\": \"CAT001\",\n",
    "#       \"name\": \"Electronics\",\n",
    "#       \"description\": \"Electronic devices and accessories\",\n",
    "#       \"parent_category\": null,\n",
    "#       \"subcategories\": [\"CAT001_01\", \"CAT001_02\"]\n",
    "#     },\n",
    "#     {\n",
    "#       \"category_id\": \"CAT001_01\",\n",
    "#       \"name\": \"Computers\",\n",
    "#       \"description\": \"Desktop and laptop computers\",\n",
    "#       \"parent_category\": \"CAT001\",\n",
    "#       \"subcategories\": []\n",
    "#     },\n",
    "#     {\n",
    "#       \"category_id\": \"CAT001_02\",\n",
    "#       \"name\": \"Accessories\",\n",
    "#       \"description\": \"Computer accessories and peripherals\",\n",
    "#       \"parent_category\": \"CAT001\",\n",
    "#       \"subcategories\": []\n",
    "#     },\n",
    "#     {\n",
    "#       \"category_id\": \"CAT002\",\n",
    "#       \"name\": \"Clothing\",\n",
    "#       \"description\": \"Apparel and fashion items\",\n",
    "#       \"parent_category\": null,\n",
    "#       \"subcategories\": [\"CAT002_01\", \"CAT002_02\"]\n",
    "#     }\n",
    "#   ]\n",
    "# }\n",
    "# ''', True)\n",
    "\n",
    "# # Upload CSV lookup data\n",
    "# dbutils.fs.put(\"/FileStore/lookup/country_codes.csv\",\n",
    "# '''\n",
    "# country_code,country_name,region,currency_code\n",
    "# US,United States,North America,USD\n",
    "# CA,Canada,North America,CAD\n",
    "# GB,United Kingdom,Europe,GBP\n",
    "# DE,Germany,Europe,EUR\n",
    "# FR,France,Europe,EUR\n",
    "# JP,Japan,Asia,JPY\n",
    "# AU,Australia,Oceania,AUD\n",
    "# BR,Brazil,South America,BRL\n",
    "# IN,India,Asia,INR\n",
    "# CN,China,Asia,CNY\n",
    "# ''', True)"
   ]
  },
  {
   "cell_type": "code",
   "execution_count": 0,
   "metadata": {
    "application/vnd.databricks.v1+cell": {
     "cellMetadata": {},
     "inputWidgets": {},
     "nuid": "2fbbe0b1-5f53-44ef-b2b0-9ada11820f75",
     "showTitle": false,
     "tableResultSettingsMap": {},
     "title": ""
    }
   },
   "outputs": [],
   "source": [
    "@dlt.table(\n",
    "    comment=\"Static reference data from JSON file\"\n",
    ")\n",
    "def product_categories():\n",
    "    return (\n",
    "        spark.read.format(\"json\")\n",
    "            .option(\"multiline\", \"true\")\n",
    "            .load(\"/FileStore/reference/product_categories.json\")\n",
    "            .select(explode(col(\"categories\")).alias(\"category\"))\n",
    "            .select(\"category.*\")\n",
    "    )\n",
    "\n",
    "@dlt.table(\n",
    "    comment=\"Country lookup table from CSV\"\n",
    ")\n",
    "def country_codes():\n",
    "    return (\n",
    "        spark.read.format(\"csv\")\n",
    "            .option(\"header\", \"true\")\n",
    "            .option(\"inferSchema\", \"true\")\n",
    "            .load(\"/FileStore/lookup/country_codes.csv\"))"
   ]
  }
 ],
 "metadata": {
  "application/vnd.databricks.v1+notebook": {
   "computePreferences": null,
   "dashboards": [],
   "environmentMetadata": {
    "base_environment": "",
    "environment_version": "2"
   },
   "inputWidgetPreferences": null,
   "language": "python",
   "notebookMetadata": {
    "mostRecentlyExecutedCommandWithImplicitDF": {
     "commandId": -1,
     "dataframes": [
      "_sqldf"
     ]
    },
    "pythonIndentUnit": 2
   },
   "notebookName": "3. Load Data using Lakeflow Declarative Pipeline",
   "widgets": {}
  },
  "language_info": {
   "name": "python"
  }
 },
 "nbformat": 4,
 "nbformat_minor": 0
}
