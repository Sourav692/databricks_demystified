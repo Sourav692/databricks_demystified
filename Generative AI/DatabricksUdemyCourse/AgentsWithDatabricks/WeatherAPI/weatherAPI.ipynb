{
 "cells": [
  {
   "cell_type": "markdown",
   "metadata": {
    "application/vnd.databricks.v1+cell": {
     "cellMetadata": {},
     "inputWidgets": {},
     "nuid": "9c617c71-fd75-4184-94fe-1dca525e7d46",
     "showTitle": false,
     "tableResultSettingsMap": {},
     "title": ""
    }
   },
   "source": [
    "### Add Weather API as function tool to your agent"
   ]
  },
  {
   "cell_type": "markdown",
   "metadata": {
    "application/vnd.databricks.v1+cell": {
     "cellMetadata": {},
     "inputWidgets": {},
     "nuid": "199d494c-78a0-4efd-8c89-8e6d2972585e",
     "showTitle": false,
     "tableResultSettingsMap": {},
     "title": ""
    }
   },
   "source": [
    "##### Import statements"
   ]
  },
  {
   "cell_type": "code",
   "execution_count": 0,
   "metadata": {
    "application/vnd.databricks.v1+cell": {
     "cellMetadata": {},
     "inputWidgets": {},
     "nuid": "7eb09596-3250-4e8c-b845-8f7d27970e0c",
     "showTitle": false,
     "tableResultSettingsMap": {},
     "title": ""
    }
   },
   "outputs": [],
   "source": [
    "from langchain_community.chat_models import ChatDatabricks\n",
    "from langchain_community.tools.databricks import UCFunctionToolkit\n",
    "import requests\n",
    "from langchain_core.messages import AIMessage\n",
    "from langchain_core.tools import Tool"
   ]
  },
  {
   "cell_type": "markdown",
   "metadata": {
    "application/vnd.databricks.v1+cell": {
     "cellMetadata": {},
     "inputWidgets": {},
     "nuid": "d4e10a1e-24bc-45ee-9b7f-e18e6ee67090",
     "showTitle": false,
     "tableResultSettingsMap": {},
     "title": ""
    }
   },
   "source": [
    "##### Weather API function calling Tool"
   ]
  },
  {
   "cell_type": "code",
   "execution_count": 0,
   "metadata": {
    "application/vnd.databricks.v1+cell": {
     "cellMetadata": {},
     "inputWidgets": {},
     "nuid": "71242c31-5545-46a6-ac99-a4ff50b167b2",
     "showTitle": false,
     "tableResultSettingsMap": {},
     "title": ""
    }
   },
   "outputs": [],
   "source": [
    "def get_weather(location):\n",
    "            \"\"\"\n",
    "            Fetch the weather information for a particular location that the user is interested in.\n",
    "\n",
    "            Parameters:\n",
    "            location (string): the location whose weather information needs to be fetched\n",
    "\n",
    "            Returns:\n",
    "                weather (string): The weather information for the given location\n",
    "            \"\"\"\n",
    "            url = \"http://api.openweathermap.org/geo/1.0/direct?q=\" + location + \"&limit=1&appid=YOUR_API_KEY\"\n",
    "            response=requests.get(url)\n",
    "            get_response=response.json()\n",
    "            latitude=get_response[0]['lat']\n",
    "            longitude = get_response[0]['lon']\n",
    "\n",
    "            url_final = \"https://api.openweathermap.org/data/2.5/weather?lat=\" + str(latitude) + \"&lon=\" + str(longitude) + \"&appid=YOUR_API_KEY\"\n",
    "            final_response = requests.get(url_final)\n",
    "            final_response_json = final_response.json()\n",
    "            weather=final_response_json['weather'][0]['description']\n",
    "            print(weather)\n",
    "            return(weather)\n",
    "        \n",
    "\n",
    "weather_tool = Tool(\n",
    "    name=\"get_weather\",\n",
    "    func=lambda location: get_weather(location),\n",
    "    description=\"Fetches weather information for a specified location. The location should be provided as a string (e.g., 'Mumbai').\"\n",
    ")\n",
    "\n",
    "tools.append(weather_tool)"
   ]
  }
 ],
 "metadata": {
  "application/vnd.databricks.v1+notebook": {
   "computePreferences": null,
   "dashboards": [],
   "environmentMetadata": null,
   "inputWidgetPreferences": null,
   "language": "python",
   "notebookMetadata": {},
   "notebookName": "weatherAPI",
   "widgets": {}
  },
  "language_info": {
   "name": "python"
  }
 },
 "nbformat": 4,
 "nbformat_minor": 0
}
