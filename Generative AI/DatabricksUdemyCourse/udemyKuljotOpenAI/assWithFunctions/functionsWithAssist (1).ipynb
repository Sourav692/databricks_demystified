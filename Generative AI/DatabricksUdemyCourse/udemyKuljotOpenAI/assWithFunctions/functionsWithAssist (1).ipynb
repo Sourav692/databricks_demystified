{
 "cells": [
  {
   "cell_type": "code",
   "execution_count": 0,
   "metadata": {
    "application/vnd.databricks.v1+cell": {
     "cellMetadata": {},
     "inputWidgets": {},
     "nuid": "807884b9-fa21-4f0b-a982-054085191f2d",
     "showTitle": false,
     "tableResultSettingsMap": {},
     "title": ""
    }
   },
   "outputs": [],
   "source": [
    "#importing important utilities and libraries\n",
    "import os\n",
    "import openai\n",
    "import json\n",
    "import requests\n",
    "import time\n",
    "from openai import AzureOpenAI\n",
    "import dotenv\n",
    "from dotenv import load_dotenv\n",
    "import pandas as pd\n",
    "from IPython.display import clear_output\n"
   ]
  },
  {
   "cell_type": "code",
   "execution_count": 0,
   "metadata": {
    "application/vnd.databricks.v1+cell": {
     "cellMetadata": {},
     "inputWidgets": {},
     "nuid": "8c83fce5-f419-49e0-96cf-48760db95d0b",
     "showTitle": false,
     "tableResultSettingsMap": {},
     "title": ""
    }
   },
   "outputs": [],
   "source": [
    "#defining a function for getting the stock price dataset of a particular company\n",
    "def get_stock_price(company):\n",
    "    url = \"https://www.alphavantage.co/query?function=TIME_SERIES_DAILY&symbol=\"+company+\"&apikey=\"+os.getenv(\"ALPHA_VANTAGE_API_KEY\")\n",
    "    response = requests.get(url).json()\n",
    "    volume = response['Time Series (Daily)']['2024-02-23']['5. volume']\n",
    "    high = response['Time Series (Daily)']['2024-02-23']['2. high']\n",
    "    low = response['Time Series (Daily)']['2024-02-23']['3. low']\n",
    "    close  = response['Time Series (Daily)']['2024-02-23']['4. close']\n",
    "    output_response = f\"\"\"here are some details of the stock price of the company {company}:\n",
    "                date : 2024-02-23\n",
    "                volume : {volume}\n",
    "                high : {high}\n",
    "                low : {low}\n",
    "                close : {close}\n",
    "                \"\"\"\n",
    "    return output_response\n",
    "\n",
    "\n",
    "   "
   ]
  },
  {
   "cell_type": "code",
   "execution_count": 0,
   "metadata": {
    "application/vnd.databricks.v1+cell": {
     "cellMetadata": {},
     "inputWidgets": {},
     "nuid": "eaf60aae-a9cb-435b-aade-67295035cf1b",
     "showTitle": false,
     "tableResultSettingsMap": {},
     "title": ""
    }
   },
   "outputs": [],
   "source": [
    "\n",
    "load_dotenv()\n",
    "    #creating azure openai client\n",
    "client = AzureOpenAI(\n",
    "    api_key=os.getenv(\"API_KEY\"),\n",
    "    api_version=\"2024-02-15-preview\",\n",
    "    azure_endpoint=os.getenv(\"ENDPOINT\")\n",
    " )"
   ]
  },
  {
   "cell_type": "code",
   "execution_count": 0,
   "metadata": {
    "application/vnd.databricks.v1+cell": {
     "cellMetadata": {},
     "inputWidgets": {},
     "nuid": "bf8bad61-cea8-4b42-846e-a7a4adb7a808",
     "showTitle": false,
     "tableResultSettingsMap": {},
     "title": ""
    }
   },
   "outputs": [],
   "source": [
    "#creating an openai assistant\n",
    "assistant = client.beta.assistants.create(\n",
    "    instructions=\"You are a stock bot. Use the provided functions to answer the questions/user queries\",\n",
    "    model = os.getenv(\"MODEL\"),\n",
    "    tools=[{\n",
    "      \"type\": \"function\",\n",
    "    \"function\": {\n",
    "      \"name\": \"get_stock_price\",\n",
    "      \"description\": \"get the stock price of the company that the user is interested in\",\n",
    "      \"parameters\": {\n",
    "        \"type\": \"object\",\n",
    "        \"properties\": {\n",
    "          \"company\": {\n",
    "              \"type\": \"string\",\n",
    "              \"description\": \"the company whose stock price the user is interested in for instance 'IBM' or 'AAPL'\"\n",
    "              },\n",
    "          \n",
    "        },\n",
    "        \"required\": [\"company\"]\n",
    "        \n",
    "      }\n",
    "    }\n",
    "  }]\n",
    " )"
   ]
  },
  {
   "cell_type": "code",
   "execution_count": 0,
   "metadata": {
    "application/vnd.databricks.v1+cell": {
     "cellMetadata": {},
     "inputWidgets": {},
     "nuid": "683952c5-65a2-4206-ae1b-c3365b2053f8",
     "showTitle": false,
     "tableResultSettingsMap": {},
     "title": ""
    }
   },
   "outputs": [],
   "source": [
    "thread = client.beta.threads.create()\n",
    " \n",
    "message = client.beta.threads.messages.create(\n",
    "    thread_id=thread.id,\n",
    "    role=\"user\",\n",
    "    content = \"provide me the stock data for IBM\",\n",
    "    \n",
    " )\n",
    " \n",
    "run = client.beta.threads.runs.create(\n",
    "  thread_id=thread.id,\n",
    "  assistant_id=assistant.id,\n",
    "  \n",
    ")"
   ]
  },
  {
   "cell_type": "code",
   "execution_count": 0,
   "metadata": {
    "application/vnd.databricks.v1+cell": {
     "cellMetadata": {},
     "inputWidgets": {},
     "nuid": "ce6bd1be-be56-47ac-a03f-557712aee462",
     "showTitle": false,
     "tableResultSettingsMap": {},
     "title": ""
    }
   },
   "outputs": [],
   "source": [
    "run = client.beta.threads.runs.retrieve(\n",
    "  thread_id=thread.id,\n",
    "  run_id=run.id\n",
    " )\n",
    " \n",
    "status = run.status\n",
    "\n",
    "start_time = time.time()\n",
    "\n",
    "while status not in [\"completed\", \"cancelled\", \"expired\", \"failed\" , \"requires_action\"]:\n",
    "    time.sleep(5)\n",
    "    run = client.beta.threads.runs.retrieve(thread_id=thread.id,run_id=run.id)\n",
    "    print(\"Elapsed time: {} minutes {} seconds\".format(int((time.time() - start_time) // 60), int((time.time() - start_time) % 60)))\n",
    "    status = run.status\n",
    "    print(f'Status: {status}')\n",
    "    clear_output(wait=True)"
   ]
  },
  {
   "cell_type": "code",
   "execution_count": 0,
   "metadata": {
    "application/vnd.databricks.v1+cell": {
     "cellMetadata": {},
     "inputWidgets": {},
     "nuid": "76e08294-f624-4216-bbc8-75a91a555c57",
     "showTitle": false,
     "tableResultSettingsMap": {},
     "title": ""
    }
   },
   "outputs": [],
   "source": [
    "if(status == \"requires_action\"):\n",
    "     initial_response = json.loads(run.model_dump_json(indent=2))\n",
    "     function_name = initial_response['required_action']['submit_tool_outputs']['tool_calls'][0]['function']['name']\n",
    "     function_arguments = initial_response['required_action']['submit_tool_outputs']['tool_calls'][0]['function']['arguments']\n",
    "     company_name = json.loads(function_arguments)['company']\n",
    "     call_id=initial_response['required_action']['submit_tool_outputs']['tool_calls'][0]['id']\n",
    "     func=globals().get(function_name)\n",
    "     output = func(company_name)\n",
    "     run = client.beta.threads.runs.submit_tool_outputs(\n",
    "             thread_id=thread.id,\n",
    "             run_id=run.id,\n",
    "             tool_outputs=[{\n",
    "                 \"tool_call_id\": call_id,\n",
    "                 \"output\": output,\n",
    "             }]\n",
    "     )\n",
    "     print(run.status)\n",
    "     run=client.beta.threads.runs.retrieve(thread_id=thread.id,run_id=run.id)\n",
    "     status=run.status\n",
    "     while status not in [\"completed\", \"cancelled\", \"expired\", \"failed\" , \"requires_action\"]:\n",
    "      time.sleep(5)\n",
    "      run = client.beta.threads.runs.retrieve(thread_id=thread.id,run_id=run.id)\n",
    "      status = run.status\n",
    "     "
   ]
  },
  {
   "cell_type": "code",
   "execution_count": 0,
   "metadata": {
    "application/vnd.databricks.v1+cell": {
     "cellMetadata": {},
     "inputWidgets": {},
     "nuid": "09d63ccc-0369-4ac3-8a34-4bd569b4e515",
     "showTitle": false,
     "tableResultSettingsMap": {},
     "title": ""
    }
   },
   "outputs": [],
   "source": [
    "messages = client.beta.threads.messages.list(\n",
    "  thread_id=thread.id\n",
    ")\n",
    " \n",
    "final_message = json.loads(messages.model_dump_json(indent=2))\n",
    "print(final_message['data'][0]['content'][0]['text']['value'])"
   ]
  }
 ],
 "metadata": {
  "application/vnd.databricks.v1+notebook": {
   "computePreferences": null,
   "dashboards": [],
   "environmentMetadata": null,
   "inputWidgetPreferences": null,
   "language": "python",
   "notebookMetadata": {},
   "notebookName": "functionsWithAssist (1)",
   "widgets": {}
  },
  "kernelspec": {
   "display_name": "Python 3 (ipykernel)",
   "language": "python",
   "name": "python3"
  },
  "language_info": {
   "name": "python"
  }
 },
 "nbformat": 4,
 "nbformat_minor": 0
}
