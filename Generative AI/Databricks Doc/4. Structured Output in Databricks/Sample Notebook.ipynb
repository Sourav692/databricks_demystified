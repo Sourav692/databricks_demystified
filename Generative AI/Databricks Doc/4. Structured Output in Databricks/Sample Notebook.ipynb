{
 "cells": [
  {
   "cell_type": "markdown",
   "metadata": {
    "application/vnd.databricks.v1+cell": {
     "cellMetadata": {},
     "inputWidgets": {},
     "nuid": "1b30863b-e8d6-487c-8edd-8c321e9d346e",
     "showTitle": false,
     "tableResultSettingsMap": {},
     "title": ""
    }
   },
   "source": [
    "### Data extraction of research papers to a specific JSON schema."
   ]
  },
  {
   "cell_type": "code",
   "execution_count": 0,
   "metadata": {
    "application/vnd.databricks.v1+cell": {
     "cellMetadata": {
      "byteLimit": 2048000,
      "rowLimit": 10000
     },
     "inputWidgets": {},
     "nuid": "b6d170e0-6e2a-46d9-9045-7def6f97cd6b",
     "showTitle": false,
     "tableResultSettingsMap": {},
     "title": ""
    }
   },
   "outputs": [],
   "source": [
    "import os\n",
    "import json\n",
    "from openai import OpenAI\n",
    "\n",
    "DATABRICKS_TOKEN = \"\"\n",
    "DATABRICKS_BASE_URL = \"https://e2-demo-field-eng.cloud.databricks.com/serving-endpoints\"\n",
    "\n",
    "client = OpenAI(\n",
    "  api_key=DATABRICKS_TOKEN,\n",
    "  base_url=DATABRICKS_BASE_URL\n",
    "  )\n",
    "\n",
    "response_format = {\n",
    "      \"type\": \"json_schema\",\n",
    "      \"json_schema\": {\n",
    "        \"name\": \"research_paper_extraction\",\n",
    "        \"schema\": {\n",
    "          \"type\": \"object\",\n",
    "          \"properties\": {\n",
    "            \"title\": { \"type\": \"string\" },\n",
    "            \"authors\": {\n",
    "              \"type\": \"array\",\n",
    "              \"items\": { \"type\": \"string\" }\n",
    "            },\n",
    "            \"abstract\": { \"type\": \"string\" },\n",
    "            \"keywords\": {\n",
    "              \"type\": \"array\",\n",
    "              \"items\": { \"type\": \"string\" }\n",
    "            }\n",
    "          },\n",
    "        },\n",
    "        \"strict\": True\n",
    "      }\n",
    "    }"
   ]
  },
  {
   "cell_type": "code",
   "execution_count": 0,
   "metadata": {
    "application/vnd.databricks.v1+cell": {
     "cellMetadata": {
      "byteLimit": 2048000,
      "rowLimit": 10000
     },
     "collapsed": true,
     "inputWidgets": {},
     "nuid": "184c9c16-7850-4cdc-a118-64d78ec26c08",
     "showTitle": false,
     "tableResultSettingsMap": {},
     "title": ""
    }
   },
   "outputs": [],
   "source": [
    "# Unstructured research paper content (messy, real-world format)\n",
    "unstructured_paper_text = \"\"\"\n",
    "Proceedings of the International Conference on Machine Learning and Data Science 2024\n",
    "\n",
    "Real-Time Anomaly Detection in IoT Networks using Deep Learning: A Hybrid CNN-LSTM Approach\n",
    "\n",
    "Sarah Chen¹, Michael Rodriguez², Dr. Priya Patel¹, James Thompson³\n",
    "\n",
    "¹University of California, Berkeley - Department of Computer Science\n",
    "²Stanford Research Institute  \n",
    "³Microsoft Research Labs\n",
    "\n",
    "Received: March 15, 2024 | Accepted: August 22, 2024 | Published: September 10, 2024\n",
    "\n",
    "INTRODUCTION AND BACKGROUND\n",
    "\n",
    "The Internet of Things (IoT) has revolutionized how we interact with technology, with an estimated 75 billion connected devices expected by 2025. However, this exponential growth brings unprecedented security challenges. Traditional signature-based intrusion detection systems are inadequate for the dynamic and heterogeneous nature of IoT environments.\n",
    "\n",
    "METHODOLOGY AND APPROACH\n",
    "\n",
    "In this work, we propose a novel hybrid architecture that combines the spatial feature extraction capabilities of Convolutional Neural Networks with the temporal modeling strengths of Long Short-Term Memory networks. Our approach processes network traffic data in real-time, analyzing packet headers, payload characteristics, and temporal patterns to identify anomalous behavior.\n",
    "\n",
    "EXPERIMENTAL SETUP\n",
    "\n",
    "We collected network traffic data from smart home environments including smart thermostats, security cameras, voice assistants, and lighting systems. The dataset comprised 2.5 million network packets gathered over a six-month period from January to June 2024. Data preprocessing involved feature normalization, sequence padding, and splitting into training (70%), validation (15%), and testing (15%) sets.\n",
    "\n",
    "RESULTS AND FINDINGS\n",
    "\n",
    "Our hybrid CNN-LSTM model achieved remarkable performance metrics: 94.7% detection accuracy, 2.1% false positive rate, and 15 milliseconds average response time. When compared to traditional rule-based systems, our approach showed 23% improvement in accuracy and 67% reduction in false alarms. The model successfully detected various attack types including DDoS, man-in-the-middle attacks, and device hijacking attempts.\n",
    "\n",
    "CONCLUSION\n",
    "\n",
    "This research demonstrates that deep learning techniques, specifically the combination of CNN and LSTM architectures, provide a robust solution for real-time IoT anomaly detection. The system's low latency and high accuracy make it suitable for deployment in production environments where immediate threat response is critical.\n",
    "\n",
    "Related research areas include: deep learning applications, anomaly detection algorithms, IoT security frameworks, neural network architectures, real-time processing systems, cybersecurity solutions, machine learning for network security, and network traffic analysis techniques.\n",
    "\n",
    "© 2024 International Conference on Machine Learning and Data Science. All rights reserved.\n",
    "DOI: 10.1234/icmlds.2024.5678\n",
    "Page 142-158\n",
    "\"\"\""
   ]
  },
  {
   "cell_type": "code",
   "execution_count": 0,
   "metadata": {
    "application/vnd.databricks.v1+cell": {
     "cellMetadata": {
      "byteLimit": 2048000,
      "rowLimit": 10000
     },
     "inputWidgets": {},
     "nuid": "1b1e42f4-e9dd-44d3-b5f9-3d1ae7711441",
     "showTitle": false,
     "tableResultSettingsMap": {},
     "title": ""
    }
   },
   "outputs": [],
   "source": [
    "messages = [{\n",
    "        \"role\": \"system\",\n",
    "        \"content\": \"You are an expert at structured data extraction. You will be given unstructured text from a research paper and should convert it into the given structure.\"\n",
    "      },\n",
    "      {\n",
    "        \"role\": \"user\",\n",
    "        \"content\": unstructured_paper_text\n",
    "      }]\n",
    "\n",
    "response = client.chat.completions.create(\n",
    "    model=\"databricks-meta-llama-3-3-70b-instruct\",\n",
    "    messages=messages,\n",
    "    response_format=response_format\n",
    ")\n",
    "\n",
    "print(json.dumps(response.choices[0].message.model_dump()['content'], indent=2))"
   ]
  },
  {
   "cell_type": "code",
   "execution_count": 0,
   "metadata": {
    "application/vnd.databricks.v1+cell": {
     "cellMetadata": {
      "byteLimit": 2048000,
      "rowLimit": 10000
     },
     "inputWidgets": {},
     "nuid": "3518429e-1bd8-4cd4-88b9-c4bf4eb70256",
     "showTitle": false,
     "tableResultSettingsMap": {},
     "title": ""
    }
   },
   "outputs": [],
   "source": [
    "print(response.choices[0].message.content)"
   ]
  },
  {
   "cell_type": "code",
   "execution_count": 0,
   "metadata": {
    "application/vnd.databricks.v1+cell": {
     "cellMetadata": {
      "byteLimit": 2048000,
      "rowLimit": 10000
     },
     "inputWidgets": {},
     "nuid": "c0e9df8c-6e12-4708-8054-d1c5321ed032",
     "showTitle": false,
     "tableResultSettingsMap": {},
     "title": ""
    }
   },
   "outputs": [],
   "source": [
    "import os\n",
    "import json\n",
    "from openai import OpenAI\n",
    "\n",
    "response_format = {\n",
    "      \"type\": \"json_object\",\n",
    "    }\n",
    "\n",
    "messages = [\n",
    "      {\n",
    "        \"role\": \"user\",\n",
    "        \"content\": \"Extract the name, size, price, and color from this product description as a JSON object:\\n<description>\\nThe SmartHome Mini is a compact smart home assistant available in black or white for only $49.99. It's 5 inches wide.\\n</description>\"\n",
    "      }]\n",
    "\n",
    "response = client.chat.completions.create(\n",
    "    model=\"databricks-meta-llama-3-3-70b-instruct\",\n",
    "    messages=messages,\n",
    "    response_format=response_format\n",
    ")\n",
    "\n",
    "print(json.dumps(response.choices[0].message.model_dump()['content'], indent=2))"
   ]
  },
  {
   "cell_type": "code",
   "execution_count": 0,
   "metadata": {
    "application/vnd.databricks.v1+cell": {
     "cellMetadata": {
      "byteLimit": 2048000,
      "rowLimit": 10000
     },
     "inputWidgets": {},
     "nuid": "9374dcfb-32ff-4c6c-bc5c-256726aee4ab",
     "showTitle": false,
     "tableResultSettingsMap": {},
     "title": ""
    }
   },
   "outputs": [],
   "source": [
    "print(response.choices[0].message.content)"
   ]
  },
  {
   "cell_type": "code",
   "execution_count": 0,
   "metadata": {
    "application/vnd.databricks.v1+cell": {
     "cellMetadata": {
      "byteLimit": 2048000,
      "rowLimit": 10000
     },
     "inputWidgets": {},
     "nuid": "fb7f2819-a173-43b3-97c0-6ecc979d5092",
     "showTitle": false,
     "tableResultSettingsMap": {},
     "title": ""
    }
   },
   "outputs": [],
   "source": [
    "print(response.choices[0].message.model_dump()['content'])"
   ]
  },
  {
   "cell_type": "code",
   "execution_count": 0,
   "metadata": {
    "application/vnd.databricks.v1+cell": {
     "cellMetadata": {},
     "inputWidgets": {},
     "nuid": "df5147f2-9cbd-4883-aea0-4ef5e35c2139",
     "showTitle": false,
     "tableResultSettingsMap": {},
     "title": ""
    }
   },
   "outputs": [],
   "source": []
  }
 ],
 "metadata": {
  "application/vnd.databricks.v1+notebook": {
   "computePreferences": null,
   "dashboards": [],
   "environmentMetadata": {
    "base_environment": "",
    "environment_version": "2"
   },
   "inputWidgetPreferences": null,
   "language": "python",
   "notebookMetadata": {
    "pythonIndentUnit": 2
   },
   "notebookName": "Sample Notebook",
   "widgets": {}
  },
  "language_info": {
   "name": "python"
  }
 },
 "nbformat": 4,
 "nbformat_minor": 0
}
