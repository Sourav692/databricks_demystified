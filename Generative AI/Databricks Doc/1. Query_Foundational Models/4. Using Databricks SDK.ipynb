{
 "cells": [
  {
   "cell_type": "markdown",
   "metadata": {
    "application/vnd.databricks.v1+cell": {
     "cellMetadata": {},
     "inputWidgets": {},
     "nuid": "0bbf2e98-2a96-4d9b-a317-abaac84da7c8",
     "showTitle": false,
     "tableResultSettingsMap": {},
     "title": ""
    }
   },
   "source": [
    "Here we use WorkspaceClient(). In Openai client notebook we also use workspaceClient() but below is the difference between these 2 notebooks.\n",
    "\n",
    "* Here we use `w.serving_endpoints.query()`\n",
    "* In Other Notebook we have uses `w.serving_endpoints.get_open_ai_client()`"
   ]
  },
  {
   "cell_type": "markdown",
   "metadata": {
    "application/vnd.databricks.v1+cell": {
     "cellMetadata": {},
     "inputWidgets": {},
     "nuid": "7b9c5da3-8ee9-4204-829c-80c77ab35390",
     "showTitle": false,
     "tableResultSettingsMap": {},
     "title": ""
    }
   },
   "source": [
    "### Text completion model query"
   ]
  },
  {
   "cell_type": "code",
   "execution_count": 0,
   "metadata": {
    "application/vnd.databricks.v1+cell": {
     "cellMetadata": {
      "byteLimit": 2048000,
      "rowLimit": 10000
     },
     "inputWidgets": {},
     "nuid": "e9568a66-16b5-466d-b6e3-8782b56422c2",
     "showTitle": false,
     "tableResultSettingsMap": {},
     "title": ""
    }
   },
   "outputs": [],
   "source": [
    "from databricks.sdk import WorkspaceClient\n",
    "from databricks.sdk.service.serving import ChatMessage, ChatMessageRole\n",
    "\n",
    "w = WorkspaceClient()\n",
    "response = w.serving_endpoints.query(\n",
    "    name=\"dais-openai-gpt-3-5\",\n",
    "    prompt=\"Write 3 reasons why you should train an AI model on domain specific data sets.\"\n",
    ")\n",
    "print(response.choices[0].text)"
   ]
  },
  {
   "cell_type": "markdown",
   "metadata": {
    "application/vnd.databricks.v1+cell": {
     "cellMetadata": {},
     "inputWidgets": {},
     "nuid": "3793a1c3-4b6b-4909-ae78-249ad0c6c88a",
     "showTitle": false,
     "tableResultSettingsMap": {},
     "title": ""
    }
   },
   "source": [
    "\n",
    "### Chat completion model query"
   ]
  },
  {
   "cell_type": "code",
   "execution_count": 0,
   "metadata": {
    "application/vnd.databricks.v1+cell": {
     "cellMetadata": {
      "byteLimit": 2048000,
      "rowLimit": 10000
     },
     "inputWidgets": {},
     "nuid": "34453c2f-63a5-40a9-a5ff-bb9bd61913ec",
     "showTitle": false,
     "tableResultSettingsMap": {},
     "title": ""
    }
   },
   "outputs": [],
   "source": [
    "from databricks.sdk import WorkspaceClient\n",
    "from databricks.sdk.service.serving import ChatMessage, ChatMessageRole\n",
    "\n",
    "w = WorkspaceClient()\n",
    "response = w.serving_endpoints.query(\n",
    "    name=\"databricks-meta-llama-3-3-70b-instruct\",\n",
    "    messages=[\n",
    "        ChatMessage(\n",
    "            role=ChatMessageRole.SYSTEM, content=\"You are a helpful assistant.\"\n",
    "        ),\n",
    "        ChatMessage(\n",
    "            role=ChatMessageRole.USER, content=\"What is a mixture of experts model?\"\n",
    "        ),\n",
    "    ],\n",
    "    max_tokens=500,\n",
    ")\n",
    "print(f\"RESPONSE:\\n{response.choices[0].message.content}\")"
   ]
  },
  {
   "cell_type": "markdown",
   "metadata": {
    "application/vnd.databricks.v1+cell": {
     "cellMetadata": {},
     "inputWidgets": {},
     "nuid": "14bef4a6-40b0-4d0a-9f51-cb66d6a72062",
     "showTitle": false,
     "tableResultSettingsMap": {},
     "title": ""
    }
   },
   "source": [
    "### Embedding model query"
   ]
  },
  {
   "cell_type": "code",
   "execution_count": 0,
   "metadata": {
    "application/vnd.databricks.v1+cell": {
     "cellMetadata": {
      "byteLimit": 2048000,
      "rowLimit": 10000
     },
     "inputWidgets": {},
     "nuid": "a326d9cb-710b-4fde-8c5f-4afec6d9bf0d",
     "showTitle": false,
     "tableResultSettingsMap": {},
     "title": ""
    }
   },
   "outputs": [],
   "source": [
    "from databricks.sdk import WorkspaceClient\n",
    "from databricks.sdk.service.serving import ChatMessage, ChatMessageRole\n",
    "\n",
    "w = WorkspaceClient()\n",
    "response = w.serving_endpoints.query(\n",
    "    name=\"databricks-gte-large-en\",\n",
    "    input=\"Embed this sentence!\"\n",
    ")\n",
    "print(response.data[0].embedding)"
   ]
  },
  {
   "cell_type": "code",
   "execution_count": 0,
   "metadata": {
    "application/vnd.databricks.v1+cell": {
     "cellMetadata": {},
     "inputWidgets": {},
     "nuid": "80c70197-e85e-4f40-a8b9-a81915b999b0",
     "showTitle": false,
     "tableResultSettingsMap": {},
     "title": ""
    }
   },
   "outputs": [],
   "source": []
  }
 ],
 "metadata": {
  "application/vnd.databricks.v1+notebook": {
   "computePreferences": null,
   "dashboards": [],
   "environmentMetadata": {
    "base_environment": "",
    "environment_version": "2"
   },
   "inputWidgetPreferences": null,
   "language": "python",
   "notebookMetadata": {
    "pythonIndentUnit": 2
   },
   "notebookName": "4. Using Databricks SDK",
   "widgets": {}
  },
  "language_info": {
   "name": "python"
  }
 },
 "nbformat": 4,
 "nbformat_minor": 0
}
