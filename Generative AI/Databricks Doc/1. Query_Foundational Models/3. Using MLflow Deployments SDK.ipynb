{
 "cells": [
  {
   "cell_type": "markdown",
   "metadata": {
    "application/vnd.databricks.v1+cell": {
     "cellMetadata": {},
     "inputWidgets": {},
     "nuid": "7b08dde7-93a5-48af-8abe-6db7ae8c2ca2",
     "showTitle": false,
     "tableResultSettingsMap": {},
     "title": ""
    }
   },
   "source": [
    "The following example uses the predict()"
   ]
  },
  {
   "cell_type": "markdown",
   "metadata": {
    "application/vnd.databricks.v1+cell": {
     "cellMetadata": {},
     "inputWidgets": {},
     "nuid": "b2018016-273d-41dc-bea8-4da1149b269f",
     "showTitle": false,
     "tableResultSettingsMap": {},
     "title": ""
    }
   },
   "source": [
    "### Text completion model query"
   ]
  },
  {
   "cell_type": "code",
   "execution_count": 0,
   "metadata": {
    "application/vnd.databricks.v1+cell": {
     "cellMetadata": {
      "byteLimit": 2048000,
      "rowLimit": 10000
     },
     "inputWidgets": {},
     "nuid": "b4a92f85-8d42-4d48-bb6b-bb54bf479aac",
     "showTitle": false,
     "tableResultSettingsMap": {},
     "title": ""
    }
   },
   "outputs": [],
   "source": [
    "import os\n",
    "import mlflow.deployments\n",
    "\n",
    "# Only required when running this example outside of a Databricks Notebook\n",
    "\n",
    "# os.environ['DATABRICKS_HOST'] = \"https://<workspace_host>.databricks.com\"\n",
    "# os.environ['DATABRICKS_TOKEN'] = \"dapi-your-databricks-token\"\n",
    "\n",
    "client = mlflow.deployments.get_deploy_client(\"databricks\")\n",
    "\n",
    "completions_response = client.predict(\n",
    "    endpoint=\"dais-openai-gpt-3-5\",\n",
    "    inputs={\n",
    "        \"prompt\": \"What is the capital of France?\",\n",
    "        \"temperature\": 0.1,\n",
    "        \"max_tokens\": 10,\n",
    "        \"n\": 2\n",
    "    }\n",
    ")\n",
    "\n",
    "# Print the response\n",
    "print(completions_response)"
   ]
  },
  {
   "cell_type": "markdown",
   "metadata": {
    "application/vnd.databricks.v1+cell": {
     "cellMetadata": {},
     "inputWidgets": {},
     "nuid": "9730407c-6774-4f4b-866d-a1a38ad28b6c",
     "showTitle": false,
     "tableResultSettingsMap": {},
     "title": ""
    }
   },
   "source": [
    "\n",
    "### Chat completion model query"
   ]
  },
  {
   "cell_type": "code",
   "execution_count": 0,
   "metadata": {
    "application/vnd.databricks.v1+cell": {
     "cellMetadata": {
      "byteLimit": 2048000,
      "rowLimit": 10000
     },
     "inputWidgets": {},
     "nuid": "8f0f0bf2-6732-4ce2-9b85-e352f1893ccc",
     "showTitle": false,
     "tableResultSettingsMap": {},
     "title": ""
    }
   },
   "outputs": [],
   "source": [
    "\n",
    "import mlflow.deployments\n",
    "\n",
    "# Only required when running this example outside of a Databricks Notebook\n",
    "# export DATABRICKS_HOST=\"https://<workspace_host>.databricks.com\"\n",
    "# export DATABRICKS_TOKEN=\"dapi-your-databricks-token\"\n",
    "\n",
    "client = mlflow.deployments.get_deploy_client(\"databricks\")\n",
    "\n",
    "chat_response = client.predict(\n",
    "    endpoint=\"databricks-meta-llama-3-3-70b-instruct\",\n",
    "    inputs={\n",
    "        \"messages\": [\n",
    "            {\n",
    "              \"role\": \"user\",\n",
    "              \"content\": \"Hello!\"\n",
    "            },\n",
    "            {\n",
    "              \"role\": \"assistant\",\n",
    "              \"content\": \"Hello! How can I assist you today?\"\n",
    "            },\n",
    "            {\n",
    "              \"role\": \"user\",\n",
    "              \"content\": \"What is a mixture of experts model??\"\n",
    "            }\n",
    "        ],\n",
    "        \"temperature\": 0.1,\n",
    "        \"max_tokens\": 20\n",
    "    }\n",
    ")"
   ]
  },
  {
   "cell_type": "markdown",
   "metadata": {
    "application/vnd.databricks.v1+cell": {
     "cellMetadata": {},
     "inputWidgets": {},
     "nuid": "7442f345-3566-4a43-983e-fa75175aa648",
     "showTitle": false,
     "tableResultSettingsMap": {},
     "title": ""
    }
   },
   "source": [
    "\n",
    "### Embedding model query"
   ]
  },
  {
   "cell_type": "code",
   "execution_count": 0,
   "metadata": {
    "application/vnd.databricks.v1+cell": {
     "cellMetadata": {
      "byteLimit": 2048000,
      "rowLimit": 10000
     },
     "inputWidgets": {},
     "nuid": "3c09957b-e88b-46d0-baa7-158b42bd90f5",
     "showTitle": false,
     "tableResultSettingsMap": {},
     "title": ""
    }
   },
   "outputs": [],
   "source": [
    "\n",
    "import mlflow.deployments\n",
    "\n",
    "# export DATABRICKS_HOST=\"https://<workspace_host>.databricks.com\"\n",
    "# export DATABRICKS_TOKEN=\"dapi-your-databricks-token\"\n",
    "\n",
    "client = mlflow.deployments.get_deploy_client(\"databricks\")\n",
    "\n",
    "embeddings_response = client.predict(\n",
    "    endpoint=\"databricks-gte-large-en\",\n",
    "    inputs={\n",
    "        \"input\": \"Here is some text to embed\"\n",
    "    }\n",
    ")\n",
    "print(embeddings_response)"
   ]
  },
  {
   "cell_type": "code",
   "execution_count": 0,
   "metadata": {
    "application/vnd.databricks.v1+cell": {
     "cellMetadata": {},
     "inputWidgets": {},
     "nuid": "7f08b496-a378-4604-8b11-42b762dbf885",
     "showTitle": false,
     "tableResultSettingsMap": {},
     "title": ""
    }
   },
   "outputs": [],
   "source": []
  }
 ],
 "metadata": {
  "application/vnd.databricks.v1+notebook": {
   "computePreferences": null,
   "dashboards": [],
   "environmentMetadata": {
    "base_environment": "",
    "environment_version": "2"
   },
   "inputWidgetPreferences": null,
   "language": "python",
   "notebookMetadata": {
    "pythonIndentUnit": 2
   },
   "notebookName": "3. Using MLflow Deployments SDK",
   "widgets": {}
  },
  "language_info": {
   "name": "python"
  }
 },
 "nbformat": 4,
 "nbformat_minor": 0
}
