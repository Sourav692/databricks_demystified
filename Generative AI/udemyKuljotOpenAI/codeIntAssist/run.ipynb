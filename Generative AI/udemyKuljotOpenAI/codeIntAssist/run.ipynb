{
 "cells": [
  {
   "cell_type": "code",
   "execution_count": 0,
   "metadata": {
    "application/vnd.databricks.v1+cell": {
     "cellMetadata": {},
     "inputWidgets": {},
     "nuid": "bcd3274d-1b27-4f93-b642-a040c5570de7",
     "showTitle": false,
     "tableResultSettingsMap": {},
     "title": ""
    }
   },
   "outputs": [],
   "source": [
    "#importing important utilities and libraries\n",
    "import json\n",
    "import requests\n",
    "import matplotlib\n",
    "import openai\n",
    "import os\n",
    "from IPython.display import clear_output\n",
    "from openai import AzureOpenAI\n",
    "from PIL import Image\n",
    "import time\n",
    "import pandas as pd\n",
    "import dotenv\n",
    "from dotenv import load_dotenv\n"
   ]
  },
  {
   "cell_type": "code",
   "execution_count": 0,
   "metadata": {
    "application/vnd.databricks.v1+cell": {
     "cellMetadata": {},
     "inputWidgets": {},
     "nuid": "7124590d-5872-4ec2-915c-2e63b2b7733f",
     "showTitle": false,
     "tableResultSettingsMap": {},
     "title": ""
    }
   },
   "outputs": [],
   "source": [
    "#creating an Azure OpenAI client\n",
    "load_dotenv()\n",
    "client = AzureOpenAI(\n",
    "    api_key=os.getenv(\"API_KEY\"),\n",
    "    api_version=\"2024-02-15-preview\",\n",
    "    azure_endpoint=os.getenv(\"ENDPOINT\")\n",
    ")"
   ]
  },
  {
   "cell_type": "code",
   "execution_count": 0,
   "metadata": {
    "application/vnd.databricks.v1+cell": {
     "cellMetadata": {},
     "inputWidgets": {},
     "nuid": "5ff6e048-9193-4a4b-91e5-64b86d13a3af",
     "showTitle": false,
     "tableResultSettingsMap": {},
     "title": ""
    }
   },
   "outputs": [],
   "source": [
    "#looking at the file that we have at hand\n",
    "df = pd.read_csv(\"stockdataset.csv\",sep=\",\")\n",
    "print(df)\n"
   ]
  },
  {
   "cell_type": "code",
   "execution_count": 0,
   "metadata": {
    "application/vnd.databricks.v1+cell": {
     "cellMetadata": {},
     "inputWidgets": {},
     "nuid": "22acecc9-2bd6-4338-b658-6ab4cfaa44ab",
     "showTitle": false,
     "tableResultSettingsMap": {},
     "title": ""
    }
   },
   "outputs": [],
   "source": [
    "#upload a file with the \"assistants\" purpose\n",
    "file = client.files.create(\n",
    "    file = open(\"./stockdataset.csv\", \"rb\"),\n",
    "    purpose = 'assistants'\n",
    ")"
   ]
  },
  {
   "cell_type": "code",
   "execution_count": 0,
   "metadata": {
    "application/vnd.databricks.v1+cell": {
     "cellMetadata": {},
     "inputWidgets": {},
     "nuid": "2bc0a3e1-198f-4b53-bc68-1405c34d9f4b",
     "showTitle": false,
     "tableResultSettingsMap": {},
     "title": ""
    }
   },
   "outputs": [],
   "source": [
    "#create an assistant\n",
    "assistant = client.beta.assistants.create(\n",
    "    name = \"Stock Price Generator\",\n",
    "    instructions = f\"You are a helpful AI assistant makes visualization of the stock price data that has been provided to you by the user\"\n",
    "    f\" You have access to a sandboxed environment for writing and testing code\"\n",
    "    f\" You can make use of all required pythonic libraries\"\n",
    "    f\"When you are required to produce a data visualization, you should follow the following steps\"\n",
    "    f\"1. Write the code\"\n",
    "    f\"Run the code to confirm that it works\"\n",
    "    f\"If the code is successful, display the visualization\"\n",
    "    f\"if the code is unsuccessful, debug the code and run again\",\n",
    "    tools = [\n",
    "        {\"type\":\"code_interpreter\"}\n",
    "    ],\n",
    "    model = os.getenv(\"model\"),\n",
    "    file_ids=[file.id]\n",
    ")"
   ]
  },
  {
   "cell_type": "code",
   "execution_count": 0,
   "metadata": {
    "application/vnd.databricks.v1+cell": {
     "cellMetadata": {},
     "inputWidgets": {},
     "nuid": "d5785164-fd96-4813-aac7-e9c7d2f0710d",
     "showTitle": false,
     "tableResultSettingsMap": {},
     "title": ""
    }
   },
   "outputs": [],
   "source": [
    "#creating a thread\n",
    "thread  = client.beta.threads.create()\n"
   ]
  },
  {
   "cell_type": "code",
   "execution_count": 0,
   "metadata": {
    "application/vnd.databricks.v1+cell": {
     "cellMetadata": {},
     "inputWidgets": {},
     "nuid": "cd79e125-29fc-49ac-a713-6ce8d6b086ad",
     "showTitle": false,
     "tableResultSettingsMap": {},
     "title": ""
    }
   },
   "outputs": [],
   "source": [
    "#put the user message in the threaded conversation\n",
    "message = client.beta.threads.messages.create(\n",
    "    thread_id=thread.id,\n",
    "    role=\"user\",\n",
    "    content = \"create a visualization of the stock price data\",\n",
    "    file_ids=[file.id]\n",
    ")"
   ]
  },
  {
   "cell_type": "code",
   "execution_count": 0,
   "metadata": {
    "application/vnd.databricks.v1+cell": {
     "cellMetadata": {},
     "inputWidgets": {},
     "nuid": "47a4cd5d-520f-4ca7-bc65-933a6da02e29",
     "showTitle": false,
     "tableResultSettingsMap": {},
     "title": ""
    }
   },
   "outputs": [],
   "source": [
    "\n",
    "#running the thread\n",
    "run = client.beta.threads.runs.create(\n",
    "  thread_id=thread.id,\n",
    "  assistant_id=assistant.id,\n",
    "  \n",
    ")"
   ]
  },
  {
   "cell_type": "code",
   "execution_count": 0,
   "metadata": {
    "application/vnd.databricks.v1+cell": {
     "cellMetadata": {},
     "inputWidgets": {},
     "nuid": "2bcb1385-74d6-4562-a51f-f089b506cae9",
     "showTitle": false,
     "tableResultSettingsMap": {},
     "title": ""
    }
   },
   "outputs": [],
   "source": [
    "#retrieving the thread\n",
    "run = client.beta.threads.runs.retrieve(\n",
    "  thread_id=thread.id,\n",
    "  run_id=run.id\n",
    ")"
   ]
  },
  {
   "cell_type": "code",
   "execution_count": 0,
   "metadata": {
    "application/vnd.databricks.v1+cell": {
     "cellMetadata": {},
     "inputWidgets": {},
     "nuid": "03588de4-17ca-4e54-a10a-378a7148b3e3",
     "showTitle": false,
     "tableResultSettingsMap": {},
     "title": ""
    }
   },
   "outputs": [],
   "source": [
    "status = run.status\n",
    "\n",
    "start_time = time.time()\n",
    "\n",
    "while status not in [\"completed\", \"cancelled\", \"expired\", \"failed\"]:\n",
    "    time.sleep(5)\n",
    "    run = client.beta.threads.runs.retrieve(thread_id=thread.id,run_id=run.id)\n",
    "    print(\"Elapsed time: {} minutes {} seconds\".format(int((time.time() - start_time) // 60), int((time.time() - start_time) % 60)))\n",
    "    status = run.status\n",
    "    print(f'Status: {status}')\n",
    "    clear_output(wait=True)\n",
    "\n",
    "messages = client.beta.threads.messages.list(\n",
    "  thread_id=thread.id\n",
    ")\n",
    "\n",
    "print(messages.model_dump_json(indent=2))\n",
    "output = json.loads(messages.model_dump_json(indent=2))\n",
    "\n",
    "image_file_id = output['data'][0]['content'][0]['image_file']['file_id']\n",
    "print(image_file_id)\n",
    "\n",
    "content = client.files.content(image_file_id)\n",
    "image= content.write_to_file(\"graph.png\")\n",
    "\n",
    "image= Image.open(\"graph.png\")\n",
    "image.show()"
   ]
  }
 ],
 "metadata": {
  "application/vnd.databricks.v1+notebook": {
   "computePreferences": null,
   "dashboards": [],
   "environmentMetadata": null,
   "inputWidgetPreferences": null,
   "language": "python",
   "notebookMetadata": {},
   "notebookName": "run",
   "widgets": {}
  },
  "kernelspec": {
   "display_name": "Python 3 (ipykernel)",
   "language": "python",
   "name": "python3"
  },
  "language_info": {
   "name": "python"
  }
 },
 "nbformat": 4,
 "nbformat_minor": 0
}
