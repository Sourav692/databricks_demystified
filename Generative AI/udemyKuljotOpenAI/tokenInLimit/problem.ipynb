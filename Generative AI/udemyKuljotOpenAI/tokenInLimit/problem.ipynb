{
 "cells": [
  {
   "cell_type": "code",
   "execution_count": 0,
   "metadata": {
    "application/vnd.databricks.v1+cell": {
     "cellMetadata": {},
     "inputWidgets": {},
     "nuid": "152b7c47-d85f-4658-95b8-502902bd7cb0",
     "showTitle": false,
     "tableResultSettingsMap": {},
     "title": ""
    }
   },
   "outputs": [],
   "source": [
    "#importing important utilities and libraries\n",
    "import os\n",
    "import tiktoken\n",
    "from openai import AzureOpenAI\n",
    "import json\n",
    "import PyPDF2\n",
    "from dotenv import load_dotenv\n",
    "import math"
   ]
  },
  {
   "cell_type": "code",
   "execution_count": 0,
   "metadata": {
    "application/vnd.databricks.v1+cell": {
     "cellMetadata": {},
     "inputWidgets": {},
     "nuid": "35577b8f-fd01-4a4d-85bd-60f75759f664",
     "showTitle": false,
     "tableResultSettingsMap": {},
     "title": ""
    }
   },
   "outputs": [],
   "source": [
    "#defining a function to count number of tokens using the tiktoken function\n",
    "def num_tokens_from_string(string: str, encoding_name: str) -> int:\n",
    "    \"\"\"Returns the number of tokens in a text string.\"\"\"\n",
    "    encoding = tiktoken.get_encoding(encoding_name)\n",
    "    num_tokens = len(encoding.encode(string))\n",
    "    return num_tokens"
   ]
  },
  {
   "cell_type": "code",
   "execution_count": 0,
   "metadata": {
    "application/vnd.databricks.v1+cell": {
     "cellMetadata": {},
     "inputWidgets": {},
     "nuid": "d33cacb6-52e0-4a3f-bbd0-6777a6704dc2",
     "showTitle": false,
     "tableResultSettingsMap": {},
     "title": ""
    }
   },
   "outputs": [],
   "source": [
    "#using PyPDF2 library to read/extract the text from the PDF document \n",
    "reader = PyPDF2.PdfReader('document.pdf')\n",
    "query=\"\"\n",
    "for pages in reader.pages:\n",
    "    query = query + pages.extract_text()\n",
    "print(num_tokens_from_string(query, \"cl100k_base\"))"
   ]
  },
  {
   "cell_type": "code",
   "execution_count": 0,
   "metadata": {
    "application/vnd.databricks.v1+cell": {
     "cellMetadata": {},
     "inputWidgets": {},
     "nuid": "20d0ff3c-6e18-4396-86f3-86c59b387dba",
     "showTitle": false,
     "tableResultSettingsMap": {},
     "title": ""
    }
   },
   "outputs": [],
   "source": [
    "#establishing a connection to the Azure OpenAI client\n",
    "load_dotenv()\n",
    "client = AzureOpenAI(\n",
    "    azure_endpoint=os.getenv('AZURE_OPENAI_ENDPOINT'),\n",
    "    api_key=os.getenv('AZURE_OPENAI_KEY'),\n",
    "    api_version=\"2024-02-15-preview\"\n",
    ")"
   ]
  },
  {
   "cell_type": "code",
   "execution_count": 0,
   "metadata": {
    "application/vnd.databricks.v1+cell": {
     "cellMetadata": {},
     "inputWidgets": {},
     "nuid": "5773fb12-d591-4067-90db-7f21ffe439b8",
     "showTitle": false,
     "tableResultSettingsMap": {},
     "title": ""
    }
   },
   "outputs": [],
   "source": [
    "#making a call to our chat engine\n",
    "response = client.chat.completions.create(\n",
    "    model=os.getenv('MODEL'),\n",
    "    messages=[\n",
    "        {\"role\":\"system\",\"content\":\"You are an ai assistant designed to help people\"},\n",
    "        {\"role\":\"user\",\"content\":\"I am providing you with a content in english \\n\"\n",
    "                                  \"generate a summary of this content \\n\"\n",
    "                                  + query}\n",
    "    ],\n",
    "    temperature=0.7\n",
    ")"
   ]
  },
  {
   "cell_type": "code",
   "execution_count": 0,
   "metadata": {
    "application/vnd.databricks.v1+cell": {
     "cellMetadata": {},
     "inputWidgets": {},
     "nuid": "ce6ef4c5-1a44-47eb-b457-974ae8721805",
     "showTitle": false,
     "tableResultSettingsMap": {},
     "title": ""
    }
   },
   "outputs": [],
   "source": [
    "#printing the response from our chatEngine\n",
    "print(response.choices[0].message.content)"
   ]
  }
 ],
 "metadata": {
  "application/vnd.databricks.v1+notebook": {
   "computePreferences": null,
   "dashboards": [],
   "environmentMetadata": null,
   "inputWidgetPreferences": null,
   "language": "python",
   "notebookMetadata": {},
   "notebookName": "problem",
   "widgets": {}
  },
  "kernelspec": {
   "display_name": "Python 3 (ipykernel)",
   "language": "python",
   "name": "python3"
  },
  "language_info": {
   "name": "python"
  }
 },
 "nbformat": 4,
 "nbformat_minor": 0
}
